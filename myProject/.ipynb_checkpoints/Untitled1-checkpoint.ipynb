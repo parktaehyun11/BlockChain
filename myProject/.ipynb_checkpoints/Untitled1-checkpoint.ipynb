{
 "cells": [
  {
   "cell_type": "markdown",
   "metadata": {},
   "source": "## Hello"
  },
  {
   "cell_type": "markdown",
   "metadata": {},
   "source": "### 2단계: 컴파일"
  },
  {
   "cell_type": "code",
   "execution_count": 3,
   "metadata": {},
   "outputs": [
    {
     "name": "stdout",
     "output_type": "stream",
     "text": "Writing src/res_Hello_complie.js\n"
    }
   ],
   "source": "%%writefile src/res_Hello_complie.js\nvar abi = [{\"constant\":true,\"inputs\":[],\"name\":\"sayHello\",\"outputs\":[{\"name\":\"\",\"type\":\"string\"}],\"payable\":false,\"stateMutability\":\"pure\",\"type\":\"function\"}];\nvar _bin = \"608060405234801561001057600080fd5b5061013f806100206000396000f3fe608060405260043610610041576000357c0100000000000000000000000000000000000000000000000000000000900463ffffffff168063ef5fb05b14610046575b600080fd5b34801561005257600080fd5b5061005b6100d6565b6040518080602001828103825283818151815260200191508051906020019080838360005b8381101561009b578082015181840152602081019050610080565b50505050905090810190601f1680156100c85780820380516001836020036101000a031916815260200191505b509250505060405180910390f35b60606040805190810160405280600b81526020017f48656c6c6f20576f726c6400000000000000000000000000000000000000000081525090509056fea165627a7a72305820cf472847922e74c177282b1d158375e99c601d03ee50aa414219ed1b5c369c900029\";"
  },
  {
   "cell_type": "markdown",
   "metadata": {},
   "source": "### 3단계: smart contract 배포"
  },
  {
   "cell_type": "code",
   "execution_count": 7,
   "metadata": {},
   "outputs": [
    {
     "name": "stdout",
     "output_type": "stream",
     "text": "Overwriting src/Hello_Deploy.js\n"
    }
   ],
   "source": "%%writefile src/Hello_Deploy.js\nvar Web3=require('web3');\nvar web3 = new Web3(new Web3.providers.HttpProvider(\"http://127.0.0.1:8445\"));\nvar abi = [{\"constant\":true,\"inputs\":[],\"name\":\"sayHello\",\"outputs\":[{\"name\":\"\",\"type\":\"string\"}],\"payable\":false,\"stateMutability\":\"pure\",\"type\":\"function\"}];\nvar _bin = \"608060405234801561001057600080fd5b5061013f806100206000396000f3fe608060405260043610610041576000357c0100000000000000000000000000000000000000000000000000000000900463ffffffff168063ef5fb05b14610046575b600080fd5b34801561005257600080fd5b5061005b6100d6565b6040518080602001828103825283818151815260200191508051906020019080838360005b8381101561009b578082015181840152602081019050610080565b50505050905090810190601f1680156100c85780820380516001836020036101000a031916815260200191505b509250505060405180910390f35b60606040805190810160405280600b81526020017f48656c6c6f20576f726c6400000000000000000000000000000000000000000081525090509056fea165627a7a72305820cf472847922e74c177282b1d158375e99c601d03ee50aa414219ed1b5c369c900029\";\nvar helloContract = new web3.eth.Contract(abi);\nhelloContract.deploy({data:\"0x\" + _bin}).send({from:\"0x36ea6a51fc997afdd9371fbd056a001d2a1c6f98\", gas: 364124, gasPrice:'1000000000'}).then(function(newContractInstance){console.log(newContractInstance.options.address)});"
  },
  {
   "cell_type": "code",
   "execution_count": 8,
   "metadata": {},
   "outputs": [
    {
     "name": "stdout",
     "output_type": "stream",
     "text": "0xE5e22E80AA09D79e31526160b965741d94803ABE\r\n"
    }
   ],
   "source": "!node src/Hello_Deploy.js"
  },
  {
   "cell_type": "markdown",
   "metadata": {},
   "source": "### 4단계: 사용하기"
  },
  {
   "cell_type": "code",
   "execution_count": 9,
   "metadata": {},
   "outputs": [
    {
     "name": "stdout",
     "output_type": "stream",
     "text": "Writing src/Hello_Use.js\n"
    }
   ],
   "source": "%%writefile src/Hello_Use.js\nvar Web3=require('web3');\nvar web3 = new Web3(new Web3.providers.HttpProvider(\"http://127.0.0.1:8445\"));\nvar abi = [{\"constant\":true,\"inputs\":[],\"name\":\"sayHello\",\"outputs\":[{\"name\":\"\",\"type\":\"string\"}],\"payable\":false,\"stateMutability\":\"pure\",\"type\":\"function\"}];\nvar addr = \"0xE5e22E80AA09D79e31526160b965741d94803ABE\";\nvar hello = new web3.eth.Contract(abi,addr);\nhello.methods.sayHello().call().then(function(value) {console.log(value);});"
  },
  {
   "cell_type": "markdown",
   "metadata": {},
   "source": "## Greeter"
  },
  {
   "cell_type": "markdown",
   "metadata": {},
   "source": "### 2단계: 컴파일"
  },
  {
   "cell_type": "code",
   "execution_count": 10,
   "metadata": {},
   "outputs": [
    {
     "name": "stdout",
     "output_type": "stream",
     "text": "Writing src/res_Greeter_compile.js\n"
    }
   ],
   "source": "%%writefile src/res_Greeter_compile.js\nvar abi = [{\"constant\":false,\"inputs\":[{\"name\":\"_greeting\",\"type\":\"string\"}],\"name\":\"setGreeting\",\"outputs\":[],\"payable\":false,\"stateMutability\":\"nonpayable\",\"type\":\"function\"},{\"constant\":true,\"inputs\":[],\"name\":\"greet\",\"outputs\":[{\"name\":\"\",\"type\":\"string\"}],\"payable\":false,\"stateMutability\":\"view\",\"type\":\"function\"},{\"inputs\":[],\"payable\":false,\"stateMutability\":\"nonpayable\",\"type\":\"constructor\"}]\nvar _bin = \"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\";"
  },
  {
   "cell_type": "markdown",
   "metadata": {},
   "source": "### 3단계: smart contract 배포"
  },
  {
   "cell_type": "code",
   "execution_count": 14,
   "metadata": {},
   "outputs": [
    {
     "name": "stdout",
     "output_type": "stream",
     "text": "Overwriting src/Greeter_Deploy.js\n"
    }
   ],
   "source": "%%writefile src/Greeter_Deploy.js\nvar Web3=require('web3');\nvar web3 = new Web3(new Web3.providers.HttpProvider(\"http://127.0.0.1:8445\"));\nvar abi = [{\"constant\":false,\"inputs\":[{\"name\":\"_greeting\",\"type\":\"string\"}],\"name\":\"setGreeting\",\"outputs\":[],\"payable\":false,\"stateMutability\":\"nonpayable\",\"type\":\"function\"},{\"constant\":true,\"inputs\":[],\"name\":\"greet\",\"outputs\":[{\"name\":\"\",\"type\":\"string\"}],\"payable\":false,\"stateMutability\":\"view\",\"type\":\"function\"},{\"inputs\":[],\"payable\":false,\"stateMutability\":\"nonpayable\",\"type\":\"constructor\"}]\nvar _bin = \"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\";\nvar greeterContract = new web3.eth.Contract(abi);\ngreeterContract.deploy({data:\"0x\" + _bin}).send({from:\"0x36ea6a51fc997afdd9371fbd056a001d2a1c6f98\", gas: 364124, gasPrice:'1000000000'}).then(function(newContractInstance){console.log(newContractInstance.options.address)});"
  },
  {
   "cell_type": "code",
   "execution_count": 15,
   "metadata": {},
   "outputs": [
    {
     "name": "stdout",
     "output_type": "stream",
     "text": "0xc959b09Cc862e84f584268Df440508d93806cb5c\r\n"
    }
   ],
   "source": "!node src/Greeter_Deploy.js"
  },
  {
   "cell_type": "markdown",
   "metadata": {},
   "source": "### 4단계: 사용하기"
  },
  {
   "cell_type": "code",
   "execution_count": 16,
   "metadata": {},
   "outputs": [
    {
     "name": "stdout",
     "output_type": "stream",
     "text": "Writing src/Greeter_Use.js\n"
    }
   ],
   "source": "%%writefile src/Greeter_Use.js\nvar Web3 = require('web3');\nvar web3 = new Web3(new Web3.providers.HttpProvider(\"http://127.0.0.1:8445\"));\nvar abi = [{\"constant\":false,\"inputs\":[{\"name\":\"_greeting\",\"type\":\"string\"}],\"name\":\"setGreeting\",\"outputs\":[],\"payable\":false,\"stateMutability\":\"nonpayable\",\"type\":\"function\"},{\"constant\":true,\"inputs\":[],\"name\":\"greet\",\"outputs\":[{\"name\":\"\",\"type\":\"string\"}],\"payable\":false,\"stateMutability\":\"view\",\"type\":\"function\"},{\"inputs\":[],\"payable\":false,\"stateMutability\":\"nonpayable\",\"type\":\"constructor\"}]\nvar addr = \"0xc959b09Cc862e84f584268Df440508d93806cb5c\";\nvar greeter = new web3.eth.Contract(abi,addr);\ngreeter.methods.greet().call().then(function(value) {console.log(value);});\ngreeter.methods.setGreeting(\"Hello Parkparka\").send({from:\"0x36ea6a51fc997afdd9371fbd056a001d2a1c6f98\",gas:100000});\ngreeter.methods.greet().call().then(function(value) {console.log(value);});"
  },
  {
   "cell_type": "markdown",
   "metadata": {},
   "source": "## Counter"
  },
  {
   "cell_type": "code",
   "execution_count": 21,
   "metadata": {},
   "outputs": [
    {
     "name": "stdout",
     "output_type": "stream",
     "text": "Writing src/Counter_050_deploy.js\n"
    }
   ],
   "source": "%%writefile src/Counter_050_deploy.js\nvar Web3 = require('web3');\nvar web3 = new Web3(new Web3.providers.HttpProvider(\"http://127.0.0.1:8445\"));\nvar abi = [{\"constant\":false,\"inputs\":[],\"name\":\"add\",\"outputs\":[],\"payable\":false,\"stateMutability\":\"nonpayable\",\"type\":\"function\"},{\"constant\":false,\"inputs\":[],\"name\":\"subtract\",\"outputs\":[],\"payable\":false,\"stateMutability\":\"nonpayable\",\"type\":\"function\"},{\"constant\":true,\"inputs\":[],\"name\":\"getCounter\",\"outputs\":[{\"name\":\"\",\"type\":\"uint256\"}],\"payable\":false,\"stateMutability\":\"view\",\"type\":\"function\"}];\nvar _bin = \"60806040526000805534801561001457600080fd5b50610104806100246000396000f3fe6080604052600436106053576000357c0100000000000000000000000000000000000000000000000000000000900463ffffffff1680634f2be91f1460585780636deebae314606c5780638ada066e146080575b600080fd5b348015606357600080fd5b50606a60a8565b005b348015607757600080fd5b50607e60bb565b005b348015608b57600080fd5b50609260cf565b6040518082815260200191505060405180910390f35b6000808154809291906001019190505550565b600080815480929190600190039190505550565b6000805490509056fea165627a7a7230582065906120a250e322a21b5ec9f50b36da7a685e764f1adc780a9db108aec41b430029\";\nvar counterContract = new web3.eth.Contract(abi);\ncounterContract.deploy({data:\"0x\" + _bin}).send({from:\"0x36ea6a51fc997afdd9371fbd056a001d2a1c6f98\", gas: 364124, gasPrice:'1000000000'}).then(function(newContractInstance){console.log(newContractInstance.options.address)});"
  },
  {
   "cell_type": "code",
   "execution_count": 23,
   "metadata": {},
   "outputs": [
    {
     "name": "stdout",
     "output_type": "stream",
     "text": "0x4DADf5d81C75f4506647C70141195263A69E42Cf\r\n"
    }
   ],
   "source": "!node src/Counter_050_deploy.js"
  },
  {
   "cell_type": "code",
   "execution_count": 24,
   "metadata": {},
   "outputs": [
    {
     "name": "stdout",
     "output_type": "stream",
     "text": "Writing src/Counter_050_use.js\n"
    }
   ],
   "source": "%%writefile src/Counter_050_use.js\nvar Web3 = require('web3');\nvar web3 = new Web3(new Web3.providers.HttpProvider(\"http://127.0.0.1:8445\"));\nvar abi = [{\"constant\":false,\"inputs\":[],\"name\":\"add\",\"outputs\":[],\"payable\":false,\"stateMutability\":\"nonpayable\",\"type\":\"function\"},{\"constant\":false,\"inputs\":[],\"name\":\"subtract\",\"outputs\":[],\"payable\":false,\"stateMutability\":\"nonpayable\",\"type\":\"function\"},{\"constant\":true,\"inputs\":[],\"name\":\"getCounter\",\"outputs\":[{\"name\":\"\",\"type\":\"uint256\"}],\"payable\":false,\"stateMutability\":\"view\",\"type\":\"function\"}];\nvar addr = \"0x4DADf5d81C75f4506647C70141195263A69E42Cf\";\nvar counter = new web3.eth.Contract(abi,addr);\ncounter.methods.getCounter().call().then(function(value){console.log(value);});\ncounter.methods.add().send({from:\"0x36ea6a51fc997afdd9371fbd056a001d2a1c6f98\",gas:100000});\ncounter.methods.subtract().send({from:\"0x36ea6a51fc997afdd9371fbd056a001d2a1c6f98\",gas:100000});\ncounter.methods.getCounter().call().then(function(value){console.log(value);});"
  },
  {
   "cell_type": "markdown",
   "metadata": {},
   "source": "### 2단계: 컴파일"
  },
  {
   "cell_type": "code",
   "execution_count": 17,
   "metadata": {},
   "outputs": [
    {
     "name": "stdout",
     "output_type": "stream",
     "text": "Writing src/res_Counter_compile.js\n"
    }
   ],
   "source": "%%writefile src/res_Counter_compile.js\nvar abi = [{\"constant\":false,\"inputs\":[],\"name\":\"add\",\"outputs\":[],\"payable\":false,\"stateMutability\":\"nonpayable\",\"type\":\"function\"},{\"constant\":false,\"inputs\":[],\"name\":\"subtract\",\"outputs\":[],\"payable\":false,\"stateMutability\":\"nonpayable\",\"type\":\"function\"},{\"constant\":true,\"inputs\":[],\"name\":\"getCounter\",\"outputs\":[{\"name\":\"\",\"type\":\"uint256\"}],\"payable\":false,\"stateMutability\":\"view\",\"type\":\"function\"}];\nvar _bin = \"60806040526000805534801561001457600080fd5b50610104806100246000396000f3fe6080604052600436106053576000357c0100000000000000000000000000000000000000000000000000000000900463ffffffff1680634f2be91f1460585780636deebae314606c5780638ada066e146080575b600080fd5b348015606357600080fd5b50606a60a8565b005b348015607757600080fd5b50607e60bb565b005b348015608b57600080fd5b50609260cf565b6040518082815260200191505060405180910390f35b6000808154809291906001019190505550565b600080815480929190600190039190505550565b6000805490509056fea165627a7a7230582065906120a250e322a21b5ec9f50b36da7a685e764f1adc780a9db108aec41b430029\";"
  },
  {
   "cell_type": "markdown",
   "metadata": {},
   "source": "### 3단계: smart contract 배포"
  },
  {
   "cell_type": "code",
   "execution_count": 18,
   "metadata": {},
   "outputs": [
    {
     "name": "stdout",
     "output_type": "stream",
     "text": "Writing src/Counter_Deploy.js\n"
    }
   ],
   "source": "%%writefile src/Counter_Deploy.js\nvar Web3 = require('web3');\nvar web3 = new Web3(new Web3.providers.HttpProvider(\"http://127.0.0.1:8445\"));\nvar abi = [{\"constant\":false,\"inputs\":[],\"name\":\"add\",\"outputs\":[],\"payable\":false,\"stateMutability\":\"nonpayable\",\"type\":\"function\"},{\"constant\":false,\"inputs\":[],\"name\":\"subtract\",\"outputs\":[],\"payable\":false,\"stateMutability\":\"nonpayable\",\"type\":\"function\"},{\"constant\":true,\"inputs\":[],\"name\":\"getCounter\",\"outputs\":[{\"name\":\"\",\"type\":\"uint256\"}],\"payable\":false,\"stateMutability\":\"view\",\"type\":\"function\"}];\nvar _bin = \"60806040526000805534801561001457600080fd5b50610104806100246000396000f3fe6080604052600436106053576000357c0100000000000000000000000000000000000000000000000000000000900463ffffffff1680634f2be91f1460585780636deebae314606c5780638ada066e146080575b600080fd5b348015606357600080fd5b50606a60a8565b005b348015607757600080fd5b50607e60bb565b005b348015608b57600080fd5b50609260cf565b6040518082815260200191505060405180910390f35b6000808154809291906001019190505550565b600080815480929190600190039190505550565b6000805490509056fea165627a7a7230582065906120a250e322a21b5ec9f50b36da7a685e764f1adc780a9db108aec41b430029\";\nvar counterContract = new web3.eth.Contract(abi);\ncounterContract.deploy({data:\"0x\" + _bin}).send({from:\"0x36ea6a51fc997afdd9371fbd056a001d2a1c6f98\", gas: 364124, gasPrice:'1000000000'}).then(function(newContractInstance){console.log(newContractInstance.options.address)});"
  },
  {
   "cell_type": "code",
   "execution_count": 19,
   "metadata": {
    "scrolled": true
   },
   "outputs": [
    {
     "name": "stdout",
     "output_type": "stream",
     "text": "0x68eb9db2e24B5a4335956257c8f9d319578cDb2c\r\n"
    }
   ],
   "source": "!node src/Counter_Deploy.js"
  },
  {
   "cell_type": "markdown",
   "metadata": {},
   "source": "### 4단계: 사용하기"
  },
  {
   "cell_type": "code",
   "execution_count": 20,
   "metadata": {},
   "outputs": [
    {
     "name": "stdout",
     "output_type": "stream",
     "text": "Overwriting src/Counter_050_use.js\n"
    }
   ],
   "source": "%%writefile src/Counter_050_use.js\nvar Web3 = require('web3');\nvar web3 = new Web3(new Web3.providers.HttpProvider(\"http://127.0.0.1:8445\"));\nvar abi = [{\"constant\":false,\"inputs\":[],\"name\":\"add\",\"outputs\":[],\"payable\":false,\"stateMutability\":\"nonpayable\",\"type\":\"function\"},{\"constant\":false,\"inputs\":[],\"name\":\"subtract\",\"outputs\":[],\"payable\":false,\"stateMutability\":\"nonpayable\",\"type\":\"function\"},{\"constant\":true,\"inputs\":[],\"name\":\"getCounter\",\"outputs\":[{\"name\":\"\",\"type\":\"uint256\"}],\"payable\":false,\"stateMutability\":\"view\",\"type\":\"function\"}];\nvar addr = \"0x68eb9db2e24B5a4335956257c8f9d319578cDb2c\";\nvar counter = new web3.eth.Contract(abi,addr);\ncounter.methods.getCounter().call().then(function(value){console.log(value);});\ncounter.methods.add().send({from:\"0x36ea6a51fc997afdd9371fbd056a001d2a1c6f98\",gas:100000});\ncounter.methods.subtract().send({from:\"0x36ea6a51fc997afdd9371fbd056a001d2a1c6f98\",gas:100000});\ncounter.methods.getCounter().call().then(function(value){console.log(value);});"
  },
  {
   "cell_type": "code",
   "execution_count": null,
   "metadata": {},
   "outputs": [],
   "source": ""
  }
 ],
 "metadata": {
  "kernelspec": {
   "display_name": "Python 3",
   "language": "python",
   "name": "python3"
  }
 },
 "nbformat": 4,
 "nbformat_minor": 4
}
