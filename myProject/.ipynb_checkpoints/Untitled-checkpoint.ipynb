{
 "cells": [
  {
   "cell_type": "markdown",
   "metadata": {},
   "source": "## genesis.json 설정"
  },
  {
   "cell_type": "code",
   "execution_count": 8,
   "metadata": {},
   "outputs": [
    {
     "name": "stdout",
     "output_type": "stream",
     "text": "Overwriting _genesis.json\n"
    }
   ],
   "source": "%%writefile _genesis.json\n{\n  \"config\": {\n    \"chainId\": 33,\n    \"homesteadBlock\": 0,\n    \"eip150Block\": 0,  \n    \"eip155Block\": 0,\n    \"eip158Block\": 0\n  },\n  \"nonce\": \"0x0000000000000033\",\n  \"timestamp\": \"0x0\",\n  \"parentHash\": \"0x0000000000000000000000000000000000000000000000000000000000000000\",\n  \"gasLimit\": \"0x8000000\",\n  \"difficulty\": \"0x100\",\n  \"mixhash\": \"0x0000000000000000000000000000000000000000000000000000000000000000\",\n  \"coinbase\": \"0x3333333333333333333333333333333333333333\",\n  \"alloc\": {}\n}"
  },
  {
   "cell_type": "markdown",
   "metadata": {},
   "source": "## geth 네트워크 초기화"
  },
  {
   "cell_type": "code",
   "execution_count": 9,
   "metadata": {},
   "outputs": [
    {
     "name": "stdout",
     "output_type": "stream",
     "text": "Overwriting _geth_genesis.sh\n"
    }
   ],
   "source": "%%writefile _geth_genesis.sh\ngeth --datadir /Users/park/BlockChain/myProject/eth/1 init _genesis.json"
  },
  {
   "cell_type": "code",
   "execution_count": 10,
   "metadata": {},
   "outputs": [
    {
     "name": "stdout",
     "output_type": "stream",
     "text": "\u001b[32mINFO \u001b[0m[03-05|16:09:28.241] Maximum peer count                       \u001b[32mETH\u001b[0m=50 \u001b[32mLES\u001b[0m=0 \u001b[32mtotal\u001b[0m=50\n\u001b[32mINFO \u001b[0m[03-05|16:09:28.256] Allocated cache and file handles         \u001b[32mdatabase\u001b[0m=/Users/park/BlockChain/myProject/eth/1/geth/chaindata \u001b[32mcache\u001b[0m=16.00MiB \u001b[32mhandles\u001b[0m=16\n\u001b[32mINFO \u001b[0m[03-05|16:09:28.276] Writing custom genesis block \n\u001b[32mINFO \u001b[0m[03-05|16:09:28.276] Persisted trie from memory database      \u001b[32mnodes\u001b[0m=0 \u001b[32msize\u001b[0m=0.00B \u001b[32mtime\u001b[0m=14.341µs \u001b[32mgcnodes\u001b[0m=0 \u001b[32mgcsize\u001b[0m=0.00B \u001b[32mgctime\u001b[0m=0s \u001b[32mlivenodes\u001b[0m=1 \u001b[32mlivesize\u001b[0m=0.00B\n\u001b[32mINFO \u001b[0m[03-05|16:09:28.276] Successfully wrote genesis state         \u001b[32mdatabase\u001b[0m=chaindata \u001b[32mhash\u001b[0m=5704d0…9bc5b0\n\u001b[32mINFO \u001b[0m[03-05|16:09:28.276] Allocated cache and file handles         \u001b[32mdatabase\u001b[0m=/Users/park/BlockChain/myProject/eth/1/geth/lightchaindata \u001b[32mcache\u001b[0m=16.00MiB \u001b[32mhandles\u001b[0m=16\n\u001b[32mINFO \u001b[0m[03-05|16:09:28.296] Writing custom genesis block \n\u001b[32mINFO \u001b[0m[03-05|16:09:28.296] Persisted trie from memory database      \u001b[32mnodes\u001b[0m=0 \u001b[32msize\u001b[0m=0.00B \u001b[32mtime\u001b[0m=2.488µs  \u001b[32mgcnodes\u001b[0m=0 \u001b[32mgcsize\u001b[0m=0.00B \u001b[32mgctime\u001b[0m=0s \u001b[32mlivenodes\u001b[0m=1 \u001b[32mlivesize\u001b[0m=0.00B\n\u001b[32mINFO \u001b[0m[03-05|16:09:28.296] Successfully wrote genesis state         \u001b[32mdatabase\u001b[0m=lightchaindata \u001b[32mhash\u001b[0m=5704d0…9bc5b0\n"
    }
   ],
   "source": "!sh _geth_genesis.sh"
  },
  {
   "cell_type": "markdown",
   "metadata": {},
   "source": "## geth 사설망 접속"
  },
  {
   "cell_type": "code",
   "execution_count": 11,
   "metadata": {},
   "outputs": [
    {
     "name": "stdout",
     "output_type": "stream",
     "text": "Overwriting _gethNow.sh\n"
    }
   ],
   "source": "%%writefile _gethNow.sh\ngeth --identity \"parkNode\" \\\n--allow-insecure-unlock \\\n--rpc --rpcaddr \"127.0.0.1\" --rpcport \"8445\" --rpccorsdomain \"*\" \\\n--datadir /Users/park/BlockChain/myProject/eth/1 \\\n--port \"38445\" \\\n--rpcapi \"admin,eth,debug,miner,net,txpool,personal,web3\" \\\n--networkid 33 "
  },
  {
   "cell_type": "markdown",
   "metadata": {},
   "source": "# HelloWorld"
  },
  {
   "cell_type": "markdown",
   "metadata": {},
   "source": "## 1단계: smart contract 개발"
  },
  {
   "cell_type": "code",
   "execution_count": 9,
   "metadata": {},
   "outputs": [
    {
     "name": "stdout",
     "output_type": "stream",
     "text": "Overwriting src/Hello.sol\n"
    }
   ],
   "source": "%%writefile src/Hello.sol\npragma solidity ^0.6.3;\ncontract Hello {\n    function sayHello() pure public returns(string memory) {\n        return \"Hello World\";\n    }\n}"
  },
  {
   "cell_type": "markdown",
   "metadata": {},
   "source": "## 2단계: 컴파일"
  },
  {
   "cell_type": "code",
   "execution_count": 3,
   "metadata": {},
   "outputs": [
    {
     "name": "stdout",
     "output_type": "stream",
     "text": "solc, the solidity compiler commandline interface\r\nVersion: 0.6.3+commit.38a4bd4a.Darwin.appleclang\r\n"
    }
   ],
   "source": "!solc --version"
  },
  {
   "cell_type": "code",
   "execution_count": 7,
   "metadata": {},
   "outputs": [
    {
     "name": "stdout",
     "output_type": "stream",
     "text": "\r\n======= src/Hello.sol:Hello =======\r\nContract JSON ABI\r\n[{\"inputs\":[],\"name\":\"sayHello\",\"outputs\":[{\"internalType\":\"string\",\"name\":\"\",\"type\":\"string\"}],\"stateMutability\":\"pure\",\"type\":\"function\"}]\r\n"
    }
   ],
   "source": "!solc --abi src/Hello.sol"
  },
  {
   "cell_type": "code",
   "execution_count": 8,
   "metadata": {},
   "outputs": [
    {
     "name": "stdout",
     "output_type": "stream",
     "text": "\r\n======= src/Hello.sol:Hello =======\r\nBinary:\r\n608060405234801561001057600080fd5b5061011e806100206000396000f3fe6080604052348015600f57600080fd5b506004361060285760003560e01c8063ef5fb05b14602d575b600080fd5b603360ab565b6040518080602001828103825283818151815260200191508051906020019080838360005b8381101560715780820151818401526020810190506058565b50505050905090810190601f168015609d5780820380516001836020036101000a031916815260200191505b509250505060405180910390f35b60606040518060400160405280600b81526020017f48656c6c6f20576f726c6400000000000000000000000000000000000000000081525090509056fea2646970667358221220e4358697da74028859c6b35938ed7af36e0cde3ae71a89ef2517bd66e575e65f64736f6c63430006030033\r\n"
    }
   ],
   "source": "!solc --bin src/Hello.sol"
  },
  {
   "cell_type": "markdown",
   "metadata": {},
   "source": "## 3단계: 배포"
  },
  {
   "cell_type": "code",
   "execution_count": 10,
   "metadata": {},
   "outputs": [
    {
     "name": "stdout",
     "output_type": "stream",
     "text": "Writing src/HelloDeploy.js\n"
    }
   ],
   "source": "%%writefile src/HelloDeploy.js\nvar Web3=require('web3');\nvar web3 = new Web3(new Web3.providers.HttpProvider(\"http://127.0.0.1:8445\"));\nvar abi = [{\"inputs\":[],\"name\":\"sayHello\",\"outputs\":[{\"internalType\":\"string\",\"name\":\"\",\"type\":\"string\"}],\"stateMutability\":\"pure\",\"type\":\"function\"}]\nvar helloContract = web3.eth.contract(abi);\nvar hello = helloContract.new(\n   {\n     from: web3.eth.accounts[0], \n     data: '0x608060405234801561001057600080fd5b5061011e806100206000396000f3fe6080604052348015600f57600080fd5b506004361060285760003560e01c8063ef5fb05b14602d575b600080fd5b603360ab565b6040518080602001828103825283818151815260200191508051906020019080838360005b8381101560715780820151818401526020810190506058565b50505050905090810190601f168015609d5780820380516001836020036101000a031916815260200191505b509250505060405180910390f35b60606040518060400160405280600b81526020017f48656c6c6f20576f726c6400000000000000000000000000000000000000000081525090509056fea264697066735822122036110ee8f36295634d8dbfc9a6c49984f084b508af913e12886ce7ecf75fe53864736f6c63430006030033', \n     gas: '4700000'\n   }, function (e, contract){\n    console.log(e, contract);\n    if (typeof contract.address !== 'undefined') {\n         console.log('Contract mined! address: ' + contract.address + ' transactionHash: ' + contract.transactionHash);\n    }\n })"
  },
  {
   "cell_type": "code",
   "execution_count": 14,
   "metadata": {},
   "outputs": [
    {
     "name": "stdout",
     "output_type": "stream",
     "text": "Writing src/HelloDeploy1.js\n"
    }
   ],
   "source": "%%writefile src/HelloDeploy1.js\nvar Web3=require('web3');\nvar web3 = new Web3(new Web3.providers.HttpProvider(\"http://127.0.0.1:8445\"));\nvar abi = [{\"constant\":true,\"inputs\":[],\"name\":\"sayHello\",\"outputs\":[{\"name\":\"\",\"type\":\"string\"}],\"payable\":false,\"stateMutability\":\"pure\",\"type\":\"function\"}];\nvar helloContract = web3.eth.contract(abi);\nvar hello = helloContract.new(\n   {\n     from: web3.eth.accounts[0], \n     data: '0x608060405234801561001057600080fd5b5061013f806100206000396000f3fe608060405260043610610041576000357c0100000000000000000000000000000000000000000000000000000000900463ffffffff168063ef5fb05b14610046575b600080fd5b34801561005257600080fd5b5061005b6100d6565b6040518080602001828103825283818151815260200191508051906020019080838360005b8381101561009b578082015181840152602081019050610080565b50505050905090810190601f1680156100c85780820380516001836020036101000a031916815260200191505b509250505060405180910390f35b60606040805190810160405280600b81526020017f48656c6c6f20576f726c6400000000000000000000000000000000000000000081525090509056fea165627a7a72305820cf472847922e74c177282b1d158375e99c601d03ee50aa414219ed1b5c369c900029', \n     gas: '4700000'\n   }, function (e, contract){\n    console.log(e, contract);\n    if (typeof contract.address !== 'undefined') {\n         console.log('Contract mined! address: ' + contract.address + ' transactionHash: ' + contract.transactionHash);\n    }\n })"
  },
  {
   "cell_type": "code",
   "execution_count": 16,
   "metadata": {},
   "outputs": [
    {
     "name": "stdout",
     "output_type": "stream",
     "text": "null Contract {\n  _eth: \n   Eth {\n     _requestManager: RequestManager { provider: [Object], polls: {}, timeout: null },\n     getBalance: { [Function: send] request: [Function: bound ], call: 'eth_getBalance' },\n     getStorageAt: { [Function: send] request: [Function: bound ], call: 'eth_getStorageAt' },\n     getCode: { [Function: send] request: [Function: bound ], call: 'eth_getCode' },\n     getBlock: { [Function: send] request: [Function: bound ], call: [Function: blockCall] },\n     getUncle: { [Function: send] request: [Function: bound ], call: [Function: uncleCall] },\n     getCompilers: { [Function: send] request: [Function: bound ], call: 'eth_getCompilers' },\n     getBlockTransactionCount: \n      { [Function: send]\n        request: [Function: bound ],\n        call: [Function: getBlockTransactionCountCall] },\n     getBlockUncleCount: \n      { [Function: send]\n        request: [Function: bound ],\n        call: [Function: uncleCountCall] },\n     getTransaction: \n      { [Function: send]\n        request: [Function: bound ],\n        call: 'eth_getTransactionByHash' },\n     getTransactionFromBlock: \n      { [Function: send]\n        request: [Function: bound ],\n        call: [Function: transactionFromBlockCall] },\n     getTransactionReceipt: \n      { [Function: send]\n        request: [Function: bound ],\n        call: 'eth_getTransactionReceipt' },\n     getTransactionCount: { [Function: send] request: [Function: bound ], call: 'eth_getTransactionCount' },\n     call: { [Function: send] request: [Function: bound ], call: 'eth_call' },\n     estimateGas: { [Function: send] request: [Function: bound ], call: 'eth_estimateGas' },\n     sendRawTransaction: { [Function: send] request: [Function: bound ], call: 'eth_sendRawTransaction' },\n     signTransaction: { [Function: send] request: [Function: bound ], call: 'eth_signTransaction' },\n     sendTransaction: { [Function: send] request: [Function: bound ], call: 'eth_sendTransaction' },\n     sign: { [Function: send] request: [Function: bound ], call: 'eth_sign' },\n     compile: { solidity: [Object], lll: [Object], serpent: [Object] },\n     submitWork: { [Function: send] request: [Function: bound ], call: 'eth_submitWork' },\n     getWork: { [Function: send] request: [Function: bound ], call: 'eth_getWork' },\n     coinbase: [Getter],\n     getCoinbase: { [Function: get] request: [Function: bound ] },\n     mining: [Getter],\n     getMining: { [Function: get] request: [Function: bound ] },\n     hashrate: [Getter],\n     getHashrate: { [Function: get] request: [Function: bound ] },\n     syncing: [Getter],\n     getSyncing: { [Function: get] request: [Function: bound ] },\n     gasPrice: [Getter],\n     getGasPrice: { [Function: get] request: [Function: bound ] },\n     accounts: [Getter],\n     getAccounts: { [Function: get] request: [Function: bound ] },\n     blockNumber: [Getter],\n     getBlockNumber: { [Function: get] request: [Function: bound ] },\n     protocolVersion: [Getter],\n     getProtocolVersion: { [Function: get] request: [Function: bound ] },\n     iban: \n      { [Function: Iban]\n        fromAddress: [Function],\n        fromBban: [Function],\n        createIndirect: [Function],\n        isValid: [Function] },\n     sendIBANTransaction: [Function: bound transfer] },\n  transactionHash: '0xb0bf232902018c16d27f80ca14fc25c0eeb843b0cb6983fe30aba712722dd605',\n  address: undefined,\n  abi: \n   [ { constant: true,\n       inputs: [],\n       name: 'sayHello',\n       outputs: [Array],\n       payable: false,\n       stateMutability: 'pure',\n       type: 'function' } ] }\nnull Contract {\n  _eth: \n   Eth {\n     _requestManager: RequestManager { provider: [Object], polls: {}, timeout: null },\n     getBalance: { [Function: send] request: [Function: bound ], call: 'eth_getBalance' },\n     getStorageAt: { [Function: send] request: [Function: bound ], call: 'eth_getStorageAt' },\n     getCode: { [Function: send] request: [Function: bound ], call: 'eth_getCode' },\n     getBlock: { [Function: send] request: [Function: bound ], call: [Function: blockCall] },\n     getUncle: { [Function: send] request: [Function: bound ], call: [Function: uncleCall] },\n     getCompilers: { [Function: send] request: [Function: bound ], call: 'eth_getCompilers' },\n     getBlockTransactionCount: \n      { [Function: send]\n        request: [Function: bound ],\n        call: [Function: getBlockTransactionCountCall] },\n     getBlockUncleCount: \n      { [Function: send]\n        request: [Function: bound ],\n        call: [Function: uncleCountCall] },\n     getTransaction: \n      { [Function: send]\n        request: [Function: bound ],\n        call: 'eth_getTransactionByHash' },\n     getTransactionFromBlock: \n      { [Function: send]\n        request: [Function: bound ],\n        call: [Function: transactionFromBlockCall] },\n     getTransactionReceipt: \n      { [Function: send]\n        request: [Function: bound ],\n        call: 'eth_getTransactionReceipt' },\n     getTransactionCount: { [Function: send] request: [Function: bound ], call: 'eth_getTransactionCount' },\n     call: { [Function: send] request: [Function: bound ], call: 'eth_call' },\n     estimateGas: { [Function: send] request: [Function: bound ], call: 'eth_estimateGas' },\n     sendRawTransaction: { [Function: send] request: [Function: bound ], call: 'eth_sendRawTransaction' },\n     signTransaction: { [Function: send] request: [Function: bound ], call: 'eth_signTransaction' },\n     sendTransaction: { [Function: send] request: [Function: bound ], call: 'eth_sendTransaction' },\n     sign: { [Function: send] request: [Function: bound ], call: 'eth_sign' },\n     compile: { solidity: [Object], lll: [Object], serpent: [Object] },\n     submitWork: { [Function: send] request: [Function: bound ], call: 'eth_submitWork' },\n     getWork: { [Function: send] request: [Function: bound ], call: 'eth_getWork' },\n     coinbase: [Getter],\n     getCoinbase: { [Function: get] request: [Function: bound ] },\n     mining: [Getter],\n     getMining: { [Function: get] request: [Function: bound ] },\n     hashrate: [Getter],\n     getHashrate: { [Function: get] request: [Function: bound ] },\n     syncing: [Getter],\n     getSyncing: { [Function: get] request: [Function: bound ] },\n     gasPrice: [Getter],\n     getGasPrice: { [Function: get] request: [Function: bound ] },\n     accounts: [Getter],\n     getAccounts: { [Function: get] request: [Function: bound ] },\n     blockNumber: [Getter],\n     getBlockNumber: { [Function: get] request: [Function: bound ] },\n     protocolVersion: [Getter],\n     getProtocolVersion: { [Function: get] request: [Function: bound ] },\n     iban: \n      { [Function: Iban]\n        fromAddress: [Function],\n        fromBban: [Function],\n        createIndirect: [Function],\n        isValid: [Function] },\n     sendIBANTransaction: [Function: bound transfer] },\n  transactionHash: '0xb0bf232902018c16d27f80ca14fc25c0eeb843b0cb6983fe30aba712722dd605',\n  address: '0x0f27d74b4b1d42943e37f2f58ca524ed0b326af3',\n  abi: \n   [ { constant: true,\n       inputs: [],\n       name: 'sayHello',\n       outputs: [Array],\n       payable: false,\n       stateMutability: 'pure',\n       type: 'function' } ],\n  sayHello: \n   { [Function: bound ]\n     request: [Function: bound ],\n     call: [Function: bound ],\n     sendTransaction: [Function: bound ],\n     estimateGas: [Function: bound ],\n     getData: [Function: bound ],\n     '': [Circular] },\n  allEvents: [Function: bound ] }\nContract mined! address: 0x0f27d74b4b1d42943e37f2f58ca524ed0b326af3 transactionHash: 0xb0bf232902018c16d27f80ca14fc25c0eeb843b0cb6983fe30aba712722dd605\n"
    }
   ],
   "source": "!node src/HelloDeploy1.js"
  },
  {
   "cell_type": "code",
   "execution_count": 12,
   "metadata": {},
   "outputs": [
    {
     "name": "stdout",
     "output_type": "stream",
     "text": "null Contract {\n  _eth: \n   Eth {\n     _requestManager: RequestManager { provider: [Object], polls: {}, timeout: null },\n     getBalance: { [Function: send] request: [Function: bound ], call: 'eth_getBalance' },\n     getStorageAt: { [Function: send] request: [Function: bound ], call: 'eth_getStorageAt' },\n     getCode: { [Function: send] request: [Function: bound ], call: 'eth_getCode' },\n     getBlock: { [Function: send] request: [Function: bound ], call: [Function: blockCall] },\n     getUncle: { [Function: send] request: [Function: bound ], call: [Function: uncleCall] },\n     getCompilers: { [Function: send] request: [Function: bound ], call: 'eth_getCompilers' },\n     getBlockTransactionCount: \n      { [Function: send]\n        request: [Function: bound ],\n        call: [Function: getBlockTransactionCountCall] },\n     getBlockUncleCount: \n      { [Function: send]\n        request: [Function: bound ],\n        call: [Function: uncleCountCall] },\n     getTransaction: \n      { [Function: send]\n        request: [Function: bound ],\n        call: 'eth_getTransactionByHash' },\n     getTransactionFromBlock: \n      { [Function: send]\n        request: [Function: bound ],\n        call: [Function: transactionFromBlockCall] },\n     getTransactionReceipt: \n      { [Function: send]\n        request: [Function: bound ],\n        call: 'eth_getTransactionReceipt' },\n     getTransactionCount: { [Function: send] request: [Function: bound ], call: 'eth_getTransactionCount' },\n     call: { [Function: send] request: [Function: bound ], call: 'eth_call' },\n     estimateGas: { [Function: send] request: [Function: bound ], call: 'eth_estimateGas' },\n     sendRawTransaction: { [Function: send] request: [Function: bound ], call: 'eth_sendRawTransaction' },\n     signTransaction: { [Function: send] request: [Function: bound ], call: 'eth_signTransaction' },\n     sendTransaction: { [Function: send] request: [Function: bound ], call: 'eth_sendTransaction' },\n     sign: { [Function: send] request: [Function: bound ], call: 'eth_sign' },\n     compile: { solidity: [Object], lll: [Object], serpent: [Object] },\n     submitWork: { [Function: send] request: [Function: bound ], call: 'eth_submitWork' },\n     getWork: { [Function: send] request: [Function: bound ], call: 'eth_getWork' },\n     coinbase: [Getter],\n     getCoinbase: { [Function: get] request: [Function: bound ] },\n     mining: [Getter],\n     getMining: { [Function: get] request: [Function: bound ] },\n     hashrate: [Getter],\n     getHashrate: { [Function: get] request: [Function: bound ] },\n     syncing: [Getter],\n     getSyncing: { [Function: get] request: [Function: bound ] },\n     gasPrice: [Getter],\n     getGasPrice: { [Function: get] request: [Function: bound ] },\n     accounts: [Getter],\n     getAccounts: { [Function: get] request: [Function: bound ] },\n     blockNumber: [Getter],\n     getBlockNumber: { [Function: get] request: [Function: bound ] },\n     protocolVersion: [Getter],\n     getProtocolVersion: { [Function: get] request: [Function: bound ] },\n     iban: \n      { [Function: Iban]\n        fromAddress: [Function],\n        fromBban: [Function],\n        createIndirect: [Function],\n        isValid: [Function] },\n     sendIBANTransaction: [Function: bound transfer] },\n  transactionHash: '0xe1348127aa28d83aa21802c7db836b80e7682e6887d6c1c731cefbe240f385d4',\n  address: undefined,\n  abi: \n   [ { inputs: [],\n       name: 'sayHello',\n       outputs: [Array],\n       stateMutability: 'pure',\n       type: 'function' } ] }\nnull Contract {\n  _eth: \n   Eth {\n     _requestManager: RequestManager { provider: [Object], polls: {}, timeout: null },\n     getBalance: { [Function: send] request: [Function: bound ], call: 'eth_getBalance' },\n     getStorageAt: { [Function: send] request: [Function: bound ], call: 'eth_getStorageAt' },\n     getCode: { [Function: send] request: [Function: bound ], call: 'eth_getCode' },\n     getBlock: { [Function: send] request: [Function: bound ], call: [Function: blockCall] },\n     getUncle: { [Function: send] request: [Function: bound ], call: [Function: uncleCall] },\n     getCompilers: { [Function: send] request: [Function: bound ], call: 'eth_getCompilers' },\n     getBlockTransactionCount: \n      { [Function: send]\n        request: [Function: bound ],\n        call: [Function: getBlockTransactionCountCall] },\n     getBlockUncleCount: \n      { [Function: send]\n        request: [Function: bound ],\n        call: [Function: uncleCountCall] },\n     getTransaction: \n      { [Function: send]\n        request: [Function: bound ],\n        call: 'eth_getTransactionByHash' },\n     getTransactionFromBlock: \n      { [Function: send]\n        request: [Function: bound ],\n        call: [Function: transactionFromBlockCall] },\n     getTransactionReceipt: \n      { [Function: send]\n        request: [Function: bound ],\n        call: 'eth_getTransactionReceipt' },\n     getTransactionCount: { [Function: send] request: [Function: bound ], call: 'eth_getTransactionCount' },\n     call: { [Function: send] request: [Function: bound ], call: 'eth_call' },\n     estimateGas: { [Function: send] request: [Function: bound ], call: 'eth_estimateGas' },\n     sendRawTransaction: { [Function: send] request: [Function: bound ], call: 'eth_sendRawTransaction' },\n     signTransaction: { [Function: send] request: [Function: bound ], call: 'eth_signTransaction' },\n     sendTransaction: { [Function: send] request: [Function: bound ], call: 'eth_sendTransaction' },\n     sign: { [Function: send] request: [Function: bound ], call: 'eth_sign' },\n     compile: { solidity: [Object], lll: [Object], serpent: [Object] },\n     submitWork: { [Function: send] request: [Function: bound ], call: 'eth_submitWork' },\n     getWork: { [Function: send] request: [Function: bound ], call: 'eth_getWork' },\n     coinbase: [Getter],\n     getCoinbase: { [Function: get] request: [Function: bound ] },\n     mining: [Getter],\n     getMining: { [Function: get] request: [Function: bound ] },\n     hashrate: [Getter],\n     getHashrate: { [Function: get] request: [Function: bound ] },\n     syncing: [Getter],\n     getSyncing: { [Function: get] request: [Function: bound ] },\n     gasPrice: [Getter],\n     getGasPrice: { [Function: get] request: [Function: bound ] },\n     accounts: [Getter],\n     getAccounts: { [Function: get] request: [Function: bound ] },\n     blockNumber: [Getter],\n     getBlockNumber: { [Function: get] request: [Function: bound ] },\n     protocolVersion: [Getter],\n     getProtocolVersion: { [Function: get] request: [Function: bound ] },\n     iban: \n      { [Function: Iban]\n        fromAddress: [Function],\n        fromBban: [Function],\n        createIndirect: [Function],\n        isValid: [Function] },\n     sendIBANTransaction: [Function: bound transfer] },\n  transactionHash: '0xe1348127aa28d83aa21802c7db836b80e7682e6887d6c1c731cefbe240f385d4',\n  address: '0x8e2a2038c0dd752f4fc1e4aff39a3eee3a7706d5',\n  abi: \n   [ { inputs: [],\n       name: 'sayHello',\n       outputs: [Array],\n       stateMutability: 'pure',\n       type: 'function' } ],\n  sayHello: \n   { [Function: bound ]\n     request: [Function: bound ],\n     call: [Function: bound ],\n     sendTransaction: [Function: bound ],\n     estimateGas: [Function: bound ],\n     getData: [Function: bound ],\n     '': [Circular] },\n  allEvents: [Function: bound ] }\nContract mined! address: 0x8e2a2038c0dd752f4fc1e4aff39a3eee3a7706d5 transactionHash: 0xe1348127aa28d83aa21802c7db836b80e7682e6887d6c1c731cefbe240f385d4\n"
    }
   ],
   "source": "!node src/HelloDeploy.js\n"
  },
  {
   "cell_type": "markdown",
   "metadata": {},
   "source": "## 4단계: 사용"
  },
  {
   "cell_type": "code",
   "execution_count": 13,
   "metadata": {},
   "outputs": [
    {
     "name": "stdout",
     "output_type": "stream",
     "text": "Writing src/HelloUse.js\n"
    }
   ],
   "source": "%%writefile src/HelloUse.js\nWeb3=require('web3');\nvar web3 = new Web3(new Web3.providers.HttpProvider(\"http://127.0.0.1:8445\"));\nvar abi = [{\"constant\":true,\"inputs\":[],\"name\":\"sayHello\",\"outputs\":[{\"name\":\"\",\"type\":\"string\"}],\"payable\":false,\"stateMutability\":\"pure\",\"type\":\"function\"}];\nvar helloContract = web3.eth.contract(abi);\nvar hello = helloContract.at(\"0x0f27d74b4b1d42943e37f2f58ca524ed0b326af3\");\nconsole.log(hello.sayHello.call());"
  },
  {
   "cell_type": "code",
   "execution_count": 17,
   "metadata": {},
   "outputs": [
    {
     "name": "stdout",
     "output_type": "stream",
     "text": "Writing src/HelloUse1.js\n"
    }
   ],
   "source": "%%writefile src/HelloUse1.js\nWeb3=require('web3');\nvar web3 = new Web3(new Web3.providers.HttpProvider(\"http://127.0.0.1:8445\"));\nvar abi = [{\"constant\":true,\"inputs\":[],\"name\":\"sayHello\",\"outputs\":[{\"name\":\"\",\"type\":\"string\"}],\"payable\":false,\"stateMutability\":\"pure\",\"type\":\"function\"}];\nvar helloContract = web3.eth.contract(abi);\nvar hello = helloContract.at(\"0x0f27d74b4b1d42943e37f2f58ca524ed0b326af3\");\nconsole.log(hello.sayHello.call());"
  },
  {
   "cell_type": "code",
   "execution_count": 18,
   "metadata": {},
   "outputs": [
    {
     "name": "stdout",
     "output_type": "stream",
     "text": "Hello World\r\n"
    }
   ],
   "source": "!node src/HelloUse1.js"
  },
  {
   "cell_type": "markdown",
   "metadata": {},
   "source": "## Greeting"
  },
  {
   "cell_type": "markdown",
   "metadata": {},
   "source": "### 1단계: smart contract 개발"
  },
  {
   "cell_type": "code",
   "execution_count": 10,
   "metadata": {},
   "outputs": [
    {
     "name": "stdout",
     "output_type": "stream",
     "text": "Overwriting src/Greeter.sol\n"
    }
   ],
   "source": "%%writefile src/Greeter.sol\npragma solidity ^0.6.3;\n\ncontract Greeter {\n    string greeting;\n\n    constructor() public {\n        greeting = 'Hello';\n    }\n\n    function setGreeting(string memory _greeting) public {\n        greeting = _greeting;\n    }\n\n    function greet() view public returns (string memory) {\n        return greeting;\n    }\n}"
  },
  {
   "cell_type": "markdown",
   "metadata": {},
   "source": "### 2단계: 컴파일"
  },
  {
   "cell_type": "code",
   "execution_count": 4,
   "metadata": {},
   "outputs": [
    {
     "name": "stdout",
     "output_type": "stream",
     "text": "solc, the solidity compiler commandline interface\r\nVersion: 0.6.3+commit.38a4bd4a.Darwin.appleclang\r\n"
    }
   ],
   "source": "!solc --version"
  },
  {
   "cell_type": "code",
   "execution_count": 5,
   "metadata": {},
   "outputs": [
    {
     "name": "stdout",
     "output_type": "stream",
     "text": "\r\n======= src/Greeter.sol:Greeter =======\r\nContract JSON ABI\r\n[{\"inputs\":[],\"stateMutability\":\"nonpayable\",\"type\":\"constructor\"},{\"inputs\":[],\"name\":\"greet\",\"outputs\":[{\"internalType\":\"string\",\"name\":\"\",\"type\":\"string\"}],\"stateMutability\":\"view\",\"type\":\"function\"},{\"inputs\":[{\"internalType\":\"string\",\"name\":\"_greeting\",\"type\":\"string\"}],\"name\":\"setGreeting\",\"outputs\":[],\"stateMutability\":\"nonpayable\",\"type\":\"function\"}]\r\n"
    }
   ],
   "source": "!solc --abi src/Greeter.sol"
  },
  {
   "cell_type": "code",
   "execution_count": 6,
   "metadata": {},
   "outputs": [
    {
     "name": "stdout",
     "output_type": "stream",
     "text": "\r\n======= src/Greeter.sol:Greeter =======\r\nBinary:\r\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\r\n"
    }
   ],
   "source": "!solc --bin src/Greeter.sol"
  },
  {
   "cell_type": "markdown",
   "metadata": {},
   "source": "### 3단계: 배포 -- REMIX abi, bin 사용"
  },
  {
   "cell_type": "code",
   "execution_count": 55,
   "metadata": {},
   "outputs": [
    {
     "name": "stdout",
     "output_type": "stream",
     "text": "Overwriting src/GreeterDeploy1.js\n"
    }
   ],
   "source": "%%writefile src/GreeterDeploy1.js\nvar Web3=require('web3');\nvar web3 = new Web3(new Web3.providers.HttpProvider(\"http://127.0.0.1:8445\"));\nvar abi = [{\"constant\":false,\"inputs\":[{\"name\":\"_greeting\",\"type\":\"string\"}],\"name\":\"setGreeting\",\"outputs\":[],\"payable\":false,\"stateMutability\":\"nonpayable\",\"type\":\"function\"},{\"constant\":true,\"inputs\":[],\"name\":\"greet\",\"outputs\":[{\"name\":\"\",\"type\":\"string\"}],\"payable\":false,\"stateMutability\":\"view\",\"type\":\"function\"},{\"inputs\":[],\"payable\":false,\"stateMutability\":\"nonpayable\",\"type\":\"constructor\"}]\nvar greeterContract = new web3.eth.Contract(abi);\n//web3.personal.unlockAccount(web3.eth.accounts[0],'1234');\nvar greeter = greeterContract.new(\n   {\n     from: web3.eth.accounts[0], \n     data: '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', \n     gas: '4700000'\n   }, function (e, contract){\n    console.log(e, contract);\n    if (typeof contract.address !== 'undefined') {\n         console.log('Contract mined! address: ' + contract.address + ' transactionHash: ' + contract.transactionHash);\n    }\n })"
  },
  {
   "cell_type": "code",
   "execution_count": 56,
   "metadata": {},
   "outputs": [
    {
     "name": "stdout",
     "output_type": "stream",
     "text": "/Users/park/BlockChain/myProject/src/GreeterDeploy1.js:6\r\nvar greeter = greeterContract.new(\r\n                                 ^\r\n\r\nTypeError: greeterContract.new is not a function\r\n    at Object.<anonymous> (/Users/park/BlockChain/myProject/src/GreeterDeploy1.js:6:34)\r\n\u001b[90m    at Module._compile (internal/modules/cjs/loader.js:1151:30)\u001b[39m\r\n\u001b[90m    at Object.Module._extensions..js (internal/modules/cjs/loader.js:1171:10)\u001b[39m\r\n\u001b[90m    at Module.load (internal/modules/cjs/loader.js:1000:32)\u001b[39m\r\n\u001b[90m    at Function.Module._load (internal/modules/cjs/loader.js:899:14)\u001b[39m\r\n\u001b[90m    at Function.executeUserEntryPoint [as runMain] (internal/modules/run_main.js:71:12)\u001b[39m\r\n\u001b[90m    at internal/main/run_main_module.js:17:47\u001b[39m\r\n"
    }
   ],
   "source": "!node src/GreeterDeploy1.js"
  },
  {
   "cell_type": "code",
   "execution_count": 49,
   "metadata": {},
   "outputs": [
    {
     "name": "stdout",
     "output_type": "stream",
     "text": "Overwriting src/greeter_ex_sample.js\n"
    }
   ],
   "source": "%%writefile src/greeter_ex_sample.js\nvar Web3=require('web3');\nvar web3 = new Web3(new Web3.providers.HttpProvider(\"http://127.0.0.1:8445\"));\nvar abi = [{\"inputs\":[],\"payable\":false,\"stateMutability\":\"nonpayable\",\"type\":\"constructor\"},{\"constant\":true,\"inputs\":[],\"name\":\"greet\",\"outputs\":[{\"internalType\":\"string\",\"name\":\"\",\"type\":\"string\"}],\"payable\":false,\"stateMutability\":\"view\",\"type\":\"function\"},{\"constant\":false,\"inputs\":[{\"internalType\":\"string\",\"name\":\"_greeting\",\"type\":\"string\"}],\"name\":\"setGreeting\",\"outputs\":[],\"payable\":false,\"stateMutability\":\"nonpayable\",\"type\":\"function\"}];\nvar _bin = \"608060405234801561001057600080fd5b506040518060400160405280600581526020017f48656c6c6f0000000000000000000000000000000000000000000000000000008152506000908051906020019061005c929190610062565b50610107565b828054600181600116156101000203166002900490600052602060002090601f016020900481019282601f106100a357805160ff19168380011785556100d1565b828001600101855582156100d1579182015b828111156100d05782518255916020019190600101906100b5565b5b5090506100de91906100e2565b5090565b61010491905b808211156101005760008160009055506001016100e8565b5090565b90565b61030f806101166000396000f3fe608060405234801561001057600080fd5b50600436106100365760003560e01c8063a41368621461003b578063cfae3217146100f6575b600080fd5b6100f46004803603602081101561005157600080fd5b810190808035906020019064010000000081111561006e57600080fd5b82018360208201111561008057600080fd5b803590602001918460018302840111640100000000831117156100a257600080fd5b91908080601f016020809104026020016040519081016040528093929190818152602001838380828437600081840152601f19601f820116905080830192505050505050509192919290505050610179565b005b6100fe610193565b6040518080602001828103825283818151815260200191508051906020019080838360005b8381101561013e578082015181840152602081019050610123565b50505050905090810190601f16801561016b5780820380516001836020036101000a031916815260200191505b509250505060405180910390f35b806000908051906020019061018f929190610235565b5050565b606060008054600181600116156101000203166002900480601f01602080910402602001604051908101604052809291908181526020018280546001816001161561010002031660029004801561022b5780601f106102005761010080835404028352916020019161022b565b820191906000526020600020905b81548152906001019060200180831161020e57829003601f168201915b5050505050905090565b828054600181600116156101000203166002900490600052602060002090601f016020900481019282601f1061027657805160ff19168380011785556102a4565b828001600101855582156102a4579182015b828111156102a3578251825591602001919060010190610288565b5b5090506102b191906102b5565b5090565b6102d791905b808211156102d35760008160009055506001016102bb565b5090565b9056fea265627a7a7231582060a788f6c8de161ece2ba48c44c513ef2eeb2d909400d9c8b4e20fd4ed5adebb64736f6c63430005110032\";\nvar greeterContract = new web3.eth.Contract(abi);\n//web3.personal.unlockAccount(\"0x36ea6a51fc997afdd9371fbd056a001d2a1c6f98\",'1234');\ngreeterContract.deploy\nvar greeter = greeterContract.new(\n   {\n     from: \"0x36ea6a51fc997afdd9371fbd056a001d2a1c6f98\", \n     data: '0x608060405234801561001057600080fd5b506040805190810160405280600581526020017f48656c6c6f0000000000000000000000000000000000000000000000000000008152506000908051906020019061005c929190610062565b50610107565b828054600181600116156101000203166002900490600052602060002090601f016020900481019282601f106100a357805160ff19168380011785556100d1565b828001600101855582156100d1579182015b828111156100d05782518255916020019190600101906100b5565b5b5090506100de91906100e2565b5090565b61010491905b808211156101005760008160009055506001016100e8565b5090565b90565b610336806101166000396000f3fe60806040526004361061004c576000357c0100000000000000000000000000000000000000000000000000000000900463ffffffff168063a413686214610051578063cfae321714610119575b600080fd5b34801561005d57600080fd5b506101176004803603602081101561007457600080fd5b810190808035906020019064010000000081111561009157600080fd5b8201836020820111156100a357600080fd5b803590602001918460018302840111640100000000831117156100c557600080fd5b91908080601f016020809104026020016040519081016040528093929190818152602001838380828437600081840152601f19601f8201169050808301925050505050505091929192905050506101a9565b005b34801561012557600080fd5b5061012e6101c3565b6040518080602001828103825283818151815260200191508051906020019080838360005b8381101561016e578082015181840152602081019050610153565b50505050905090810190601f16801561019b5780820380516001836020036101000a031916815260200191505b509250505060405180910390f35b80600090805190602001906101bf929190610265565b5050565b606060008054600181600116156101000203166002900480601f01602080910402602001604051908101604052809291908181526020018280546001816001161561010002031660029004801561025b5780601f106102305761010080835404028352916020019161025b565b820191906000526020600020905b81548152906001019060200180831161023e57829003601f168201915b5050505050905090565b828054600181600116156101000203166002900490600052602060002090601f016020900481019282601f106102a657805160ff19168380011785556102d4565b828001600101855582156102d4579182015b828111156102d35782518255916020019190600101906102b8565b5b5090506102e191906102e5565b5090565b61030791905b808211156103035760008160009055506001016102eb565b5090565b9056fea165627a7a723058201ff5b2340449e4c2a498f18af42bdd94ed2f7ed97e3460664df86c347bc7f5390029', \n     gas: '4700000'\n   }, function (e, contract){\n    console.log(e, contract);\n    if (typeof contract.address !== 'undefined') {\n         console.log('Contract mined! address: ' + contract.address + ' transactionHash: ' + contract.transactionHash);\n    }\n })\n\n"
  },
  {
   "cell_type": "markdown",
   "metadata": {},
   "source": "### 4단계: 사용"
  },
  {
   "cell_type": "markdown",
   "metadata": {},
   "source": "- web3 0.20"
  },
  {
   "cell_type": "code",
   "execution_count": 1,
   "metadata": {},
   "outputs": [
    {
     "name": "stdout",
     "output_type": "stream",
     "text": "Writing src/GreeterUse.js\n"
    }
   ],
   "source": "%%writefile src/GreeterUse.js\nWeb3=require('web3');\nvar web3 = new Web3(new Web3.providers.HttpProvider(\"http://127.0.0.1:8445\"));\nvar abi = [{\"constant\":false,\"inputs\":[{\"name\":\"_greeting\",\"type\":\"string\"}],\"name\":\"setGreeting\",\"outputs\":[],\"payable\":false,\"stateMutability\":\"nonpayable\",\"type\":\"function\"},{\"constant\":true,\"inputs\":[],\"name\":\"greet\",\"outputs\":[{\"name\":\"\",\"type\":\"string\"}],\"payable\":false,\"stateMutability\":\"view\",\"type\":\"function\"},{\"inputs\":[],\"payable\":false,\"stateMutability\":\"nonpayable\",\"type\":\"constructor\"}]\nvar greeterContract = web3.eth.contract(abi);\nvar greeter = greeterContract.at(\"0x55ca00106306620dcd8d997534372927634e26c9\");\nweb3.eth.personal.unlockAccount(\"0x36ea6a51fc997afdd9371fbd056a001d2a1c6f98\",'1234');\n\nconsole.log(greeter.greet.call()); //Hello\n//web3.personal.unlockAccount(web3.eth.accounts[0],'1234');\ngreeter.setGreeting(\"Hello World\",{from:web3.eth.accounts[0],gas:100000})\nconsole.log(greeter.greet.call()); //Hello Park"
  },
  {
   "cell_type": "markdown",
   "metadata": {},
   "source": "- web3 1.2.8"
  },
  {
   "cell_type": "code",
   "execution_count": 31,
   "metadata": {},
   "outputs": [
    {
     "name": "stdout",
     "output_type": "stream",
     "text": "Overwriting src/GreeterUse1.js\n"
    }
   ],
   "source": "%%writefile src/GreeterUse1.js\nWeb3=require('web3');\nvar web3 = new Web3(new Web3.providers.HttpProvider(\"http://127.0.0.1:8445\"));\nvar abi = [{\"constant\":false,\"inputs\":[{\"name\":\"_greeting\",\"type\":\"string\"}],\"name\":\"setGreeting\",\"outputs\":[],\"payable\":false,\"stateMutability\":\"nonpayable\",\"type\":\"function\"},{\"constant\":true,\"inputs\":[],\"name\":\"greet\",\"outputs\":[{\"name\":\"\",\"type\":\"string\"}],\"payable\":false,\"stateMutability\":\"view\",\"type\":\"function\"},{\"inputs\":[],\"payable\":false,\"stateMutability\":\"nonpayable\",\"type\":\"constructor\"}]\nvar addr = \"0x55ca00106306620dcd8d997534372927634e26c9\";\nvar greeter = new web3.eth.Contract(abi,addr);\ngreeter.methods.greet().call().then(function(value) {console.log(value);});\nweb3.eth.personal.unlockAccount(\"0x36ea6a51fc997afdd9371fbd056a001d2a1c6f98\",'1234');\ngreeter.methods.setGreeting(\"Hello Parkparka\").send({from:\"0x36ea6a51fc997afdd9371fbd056a001d2a1c6f98\",gas:100000});\ngreeter.methods.greet().call().then(function(value) {console.log(value);});"
  },
  {
   "cell_type": "code",
   "execution_count": 32,
   "metadata": {},
   "outputs": [
    {
     "name": "stdout",
     "output_type": "stream",
     "text": "Hello park\r\nHello park\r\n"
    }
   ],
   "source": "!node src/GreeterUse1.js"
  },
  {
   "cell_type": "markdown",
   "metadata": {},
   "source": "## Counter"
  },
  {
   "cell_type": "markdown",
   "metadata": {},
   "source": "### 1단계: smart contract 개발"
  },
  {
   "cell_type": "code",
   "execution_count": 11,
   "metadata": {},
   "outputs": [
    {
     "name": "stdout",
     "output_type": "stream",
     "text": "Writing src/Counter.sol\n"
    }
   ],
   "source": "%%writefile src/Counter.sol\npragma solidity ^0.6.3;\n\ncontract Counter {\n    uint256 counter = 0;\n    function add() public {\n        counter++;\n    }\n    function subtract() public {\n        counter--;\n    }\n    function getCounter() public view returns (uint256) {\n        return counter;\n    }\n}"
  },
  {
   "cell_type": "code",
   "execution_count": 9,
   "metadata": {},
   "outputs": [
    {
     "name": "stdout",
     "output_type": "stream",
     "text": "solc, the solidity compiler commandline interface\r\nVersion: 0.6.3+commit.38a4bd4a.Darwin.appleclang\r\n"
    }
   ],
   "source": "!solc --version"
  },
  {
   "cell_type": "markdown",
   "metadata": {},
   "source": "### 2단계: 컴파일"
  },
  {
   "cell_type": "code",
   "execution_count": 12,
   "metadata": {},
   "outputs": [
    {
     "name": "stdout",
     "output_type": "stream",
     "text": "\r\n======= src/Counter.sol:Counter =======\r\nContract JSON ABI\r\n[{\"inputs\":[],\"name\":\"add\",\"outputs\":[],\"stateMutability\":\"nonpayable\",\"type\":\"function\"},{\"inputs\":[],\"name\":\"getCounter\",\"outputs\":[{\"internalType\":\"uint256\",\"name\":\"\",\"type\":\"uint256\"}],\"stateMutability\":\"view\",\"type\":\"function\"},{\"inputs\":[],\"name\":\"subtract\",\"outputs\":[],\"stateMutability\":\"nonpayable\",\"type\":\"function\"}]\r\n"
    }
   ],
   "source": "!solc --abi src/Counter.sol"
  },
  {
   "cell_type": "code",
   "execution_count": 13,
   "metadata": {},
   "outputs": [
    {
     "name": "stdout",
     "output_type": "stream",
     "text": "\r\n======= src/Counter.sol:Counter =======\r\nBinary:\r\n60806040526000805534801561001457600080fd5b5060d3806100236000396000f3fe6080604052348015600f57600080fd5b5060043610603c5760003560e01c80634f2be91f1460415780636deebae31460495780638ada066e146051575b600080fd5b6047606d565b005b604f6080565b005b60576094565b6040518082815260200191505060405180910390f35b6000808154809291906001019190505550565b600080815480929190600190039190505550565b6000805490509056fea2646970667358221220fd504b7e9384641eb76845826c2cfe1925d1d186dd069cbcd7686bdf6298ccc564736f6c63430006030033\r\n"
    }
   ],
   "source": "!solc --bin src/Counter.sol"
  },
  {
   "cell_type": "markdown",
   "metadata": {},
   "source": "### 3단계: 배포"
  },
  {
   "cell_type": "code",
   "execution_count": 16,
   "metadata": {},
   "outputs": [
    {
     "name": "stdout",
     "output_type": "stream",
     "text": "Overwriting src/CounterDeploy.js\n"
    }
   ],
   "source": "%%writefile src/CounterDeploy.js\nvar Web3=require('web3');\nvar web3 = new Web3(new Web3.providers.HttpProvider(\"http://127.0.0.1:8445\"));\nvar abi = [{\"constant\":false,\"inputs\":[],\"name\":\"add\",\"outputs\":[],\"payable\":false,\"stateMutability\":\"nonpayable\",\"type\":\"function\"},{\"constant\":true,\"inputs\":[],\"name\":\"getCounter\",\"outputs\":[{\"internalType\":\"uint256\",\"name\":\"\",\"type\":\"uint256\"}],\"payable\":false,\"stateMutability\":\"view\",\"type\":\"function\"},{\"constant\":false,\"inputs\":[],\"name\":\"subtract\",\"outputs\":[],\"payable\":false,\"stateMutability\":\"nonpayable\",\"type\":\"function\"}]\nvar counterContract = web3.eth.contract(abi);\nweb3.personal.unlockAccount(web3.eth.accounts[0],'1234');\nvar counter = counterContract.new(\n   {\n     from: web3.eth.accounts[0], \n     data: '0x60806040526000805534801561001457600080fd5b5060d2806100236000396000f3fe6080604052348015600f57600080fd5b5060043610603c5760003560e01c80634f2be91f1460415780636deebae31460495780638ada066e146051575b600080fd5b6047606d565b005b604f6080565b005b60576094565b6040518082815260200191505060405180910390f35b6000808154809291906001019190505550565b600080815480929190600190039190505550565b6000805490509056fea265627a7a72315820de05ac98b344c83abd4e2ebd09d4237b47fdf8aabc920dcc151053fce8403a7664736f6c63430005110032', \n     gas: '4700000'\n   }, function (e, contract){\n    console.log(e, contract);\n    if (typeof contract.address !== 'undefined') {\n         console.log('Contract mined! address: ' + contract.address + ' transactionHash: ' + contract.transactionHash);\n    }\n })"
  },
  {
   "cell_type": "code",
   "execution_count": 19,
   "metadata": {},
   "outputs": [
    {
     "name": "stdout",
     "output_type": "stream",
     "text": "\u001b[1mnull\u001b[22m Contract {\n  _eth: Eth {\n    _requestManager: RequestManager {\n      provider: \u001b[36m[HttpProvider]\u001b[39m,\n      polls: {},\n      timeout: \u001b[1mnull\u001b[22m\n    },\n    getBalance: [Function: send] {\n      request: \u001b[36m[Function: bound ]\u001b[39m,\n      call: \u001b[32m'eth_getBalance'\u001b[39m\n    },\n    getStorageAt: [Function: send] {\n      request: \u001b[36m[Function: bound ]\u001b[39m,\n      call: \u001b[32m'eth_getStorageAt'\u001b[39m\n    },\n    getCode: [Function: send] {\n      request: \u001b[36m[Function: bound ]\u001b[39m,\n      call: \u001b[32m'eth_getCode'\u001b[39m\n    },\n    getBlock: [Function: send] {\n      request: \u001b[36m[Function: bound ]\u001b[39m,\n      call: \u001b[36m[Function: blockCall]\u001b[39m\n    },\n    getUncle: [Function: send] {\n      request: \u001b[36m[Function: bound ]\u001b[39m,\n      call: \u001b[36m[Function: uncleCall]\u001b[39m\n    },\n    getCompilers: [Function: send] {\n      request: \u001b[36m[Function: bound ]\u001b[39m,\n      call: \u001b[32m'eth_getCompilers'\u001b[39m\n    },\n    getBlockTransactionCount: [Function: send] {\n      request: \u001b[36m[Function: bound ]\u001b[39m,\n      call: \u001b[36m[Function: getBlockTransactionCountCall]\u001b[39m\n    },\n    getBlockUncleCount: [Function: send] {\n      request: \u001b[36m[Function: bound ]\u001b[39m,\n      call: \u001b[36m[Function: uncleCountCall]\u001b[39m\n    },\n    getTransaction: [Function: send] {\n      request: \u001b[36m[Function: bound ]\u001b[39m,\n      call: \u001b[32m'eth_getTransactionByHash'\u001b[39m\n    },\n    getTransactionFromBlock: [Function: send] {\n      request: \u001b[36m[Function: bound ]\u001b[39m,\n      call: \u001b[36m[Function: transactionFromBlockCall]\u001b[39m\n    },\n    getTransactionReceipt: [Function: send] {\n      request: \u001b[36m[Function: bound ]\u001b[39m,\n      call: \u001b[32m'eth_getTransactionReceipt'\u001b[39m\n    },\n    getTransactionCount: [Function: send] {\n      request: \u001b[36m[Function: bound ]\u001b[39m,\n      call: \u001b[32m'eth_getTransactionCount'\u001b[39m\n    },\n    call: [Function: send] { request: \u001b[36m[Function: bound ]\u001b[39m, call: \u001b[32m'eth_call'\u001b[39m },\n    estimateGas: [Function: send] {\n      request: \u001b[36m[Function: bound ]\u001b[39m,\n      call: \u001b[32m'eth_estimateGas'\u001b[39m\n    },\n    sendRawTransaction: [Function: send] {\n      request: \u001b[36m[Function: bound ]\u001b[39m,\n      call: \u001b[32m'eth_sendRawTransaction'\u001b[39m\n    },\n    signTransaction: [Function: send] {\n      request: \u001b[36m[Function: bound ]\u001b[39m,\n      call: \u001b[32m'eth_signTransaction'\u001b[39m\n    },\n    sendTransaction: [Function: send] {\n      request: \u001b[36m[Function: bound ]\u001b[39m,\n      call: \u001b[32m'eth_sendTransaction'\u001b[39m\n    },\n    sign: [Function: send] { request: \u001b[36m[Function: bound ]\u001b[39m, call: \u001b[32m'eth_sign'\u001b[39m },\n    compile: { solidity: \u001b[36m[Function]\u001b[39m, lll: \u001b[36m[Function]\u001b[39m, serpent: \u001b[36m[Function]\u001b[39m },\n    submitWork: [Function: send] {\n      request: \u001b[36m[Function: bound ]\u001b[39m,\n      call: \u001b[32m'eth_submitWork'\u001b[39m\n    },\n    getWork: [Function: send] {\n      request: \u001b[36m[Function: bound ]\u001b[39m,\n      call: \u001b[32m'eth_getWork'\u001b[39m\n    },\n    coinbase: \u001b[36m[Getter]\u001b[39m,\n    getCoinbase: [Function: get] { request: \u001b[36m[Function: bound ]\u001b[39m },\n    mining: \u001b[36m[Getter]\u001b[39m,\n    getMining: [Function: get] { request: \u001b[36m[Function: bound ]\u001b[39m },\n    hashrate: \u001b[36m[Getter]\u001b[39m,\n    getHashrate: [Function: get] { request: \u001b[36m[Function: bound ]\u001b[39m },\n    syncing: \u001b[36m[Getter]\u001b[39m,\n    getSyncing: [Function: get] { request: \u001b[36m[Function: bound ]\u001b[39m },\n    gasPrice: \u001b[36m[Getter]\u001b[39m,\n    getGasPrice: [Function: get] { request: \u001b[36m[Function: bound ]\u001b[39m },\n    accounts: \u001b[36m[Getter]\u001b[39m,\n    getAccounts: [Function: get] { request: \u001b[36m[Function: bound ]\u001b[39m },\n    blockNumber: \u001b[36m[Getter]\u001b[39m,\n    getBlockNumber: [Function: get] { request: \u001b[36m[Function: bound ]\u001b[39m },\n    protocolVersion: \u001b[36m[Getter]\u001b[39m,\n    getProtocolVersion: [Function: get] { request: \u001b[36m[Function: bound ]\u001b[39m },\n    iban: [Function: Iban] {\n      fromAddress: \u001b[36m[Function (anonymous)]\u001b[39m,\n      fromBban: \u001b[36m[Function (anonymous)]\u001b[39m,\n      createIndirect: \u001b[36m[Function (anonymous)]\u001b[39m,\n      isValid: \u001b[36m[Function (anonymous)]\u001b[39m\n    },\n    sendIBANTransaction: \u001b[36m[Function: bound transfer]\u001b[39m\n  },\n  transactionHash: \u001b[32m'0x39bbc549006fa51b647031ff903af84b7d7009623b97a5f07975754e042130de'\u001b[39m,\n  address: \u001b[90mundefined\u001b[39m,\n  abi: [\n    {\n      inputs: [],\n      name: \u001b[32m'add'\u001b[39m,\n      outputs: [],\n      stateMutability: \u001b[32m'nonpayable'\u001b[39m,\n      type: \u001b[32m'function'\u001b[39m\n    },\n    {\n      inputs: [],\n      name: \u001b[32m'getCounter'\u001b[39m,\n      outputs: \u001b[36m[Array]\u001b[39m,\n      stateMutability: \u001b[32m'view'\u001b[39m,\n      type: \u001b[32m'function'\u001b[39m\n    },\n    {\n      inputs: [],\n      name: \u001b[32m'subtract'\u001b[39m,\n      outputs: [],\n      stateMutability: \u001b[32m'nonpayable'\u001b[39m,\n      type: \u001b[32m'function'\u001b[39m\n    }\n  ]\n}\n\u001b[1mnull\u001b[22m Contract {\n  _eth: Eth {\n    _requestManager: RequestManager {\n      provider: \u001b[36m[HttpProvider]\u001b[39m,\n      polls: {},\n      timeout: \u001b[1mnull\u001b[22m\n    },\n    getBalance: [Function: send] {\n      request: \u001b[36m[Function: bound ]\u001b[39m,\n      call: \u001b[32m'eth_getBalance'\u001b[39m\n    },\n    getStorageAt: [Function: send] {\n      request: \u001b[36m[Function: bound ]\u001b[39m,\n      call: \u001b[32m'eth_getStorageAt'\u001b[39m\n    },\n    getCode: [Function: send] {\n      request: \u001b[36m[Function: bound ]\u001b[39m,\n      call: \u001b[32m'eth_getCode'\u001b[39m\n    },\n    getBlock: [Function: send] {\n      request: \u001b[36m[Function: bound ]\u001b[39m,\n      call: \u001b[36m[Function: blockCall]\u001b[39m\n    },\n    getUncle: [Function: send] {\n      request: \u001b[36m[Function: bound ]\u001b[39m,\n      call: \u001b[36m[Function: uncleCall]\u001b[39m\n    },\n    getCompilers: [Function: send] {\n      request: \u001b[36m[Function: bound ]\u001b[39m,\n      call: \u001b[32m'eth_getCompilers'\u001b[39m\n    },\n    getBlockTransactionCount: [Function: send] {\n      request: \u001b[36m[Function: bound ]\u001b[39m,\n      call: \u001b[36m[Function: getBlockTransactionCountCall]\u001b[39m\n    },\n    getBlockUncleCount: [Function: send] {\n      request: \u001b[36m[Function: bound ]\u001b[39m,\n      call: \u001b[36m[Function: uncleCountCall]\u001b[39m\n    },\n    getTransaction: [Function: send] {\n      request: \u001b[36m[Function: bound ]\u001b[39m,\n      call: \u001b[32m'eth_getTransactionByHash'\u001b[39m\n    },\n    getTransactionFromBlock: [Function: send] {\n      request: \u001b[36m[Function: bound ]\u001b[39m,\n      call: \u001b[36m[Function: transactionFromBlockCall]\u001b[39m\n    },\n    getTransactionReceipt: [Function: send] {\n      request: \u001b[36m[Function: bound ]\u001b[39m,\n      call: \u001b[32m'eth_getTransactionReceipt'\u001b[39m\n    },\n    getTransactionCount: [Function: send] {\n      request: \u001b[36m[Function: bound ]\u001b[39m,\n      call: \u001b[32m'eth_getTransactionCount'\u001b[39m\n    },\n    call: [Function: send] { request: \u001b[36m[Function: bound ]\u001b[39m, call: \u001b[32m'eth_call'\u001b[39m },\n    estimateGas: [Function: send] {\n      request: \u001b[36m[Function: bound ]\u001b[39m,\n      call: \u001b[32m'eth_estimateGas'\u001b[39m\n    },\n    sendRawTransaction: [Function: send] {\n      request: \u001b[36m[Function: bound ]\u001b[39m,\n      call: \u001b[32m'eth_sendRawTransaction'\u001b[39m\n    },\n    signTransaction: [Function: send] {\n      request: \u001b[36m[Function: bound ]\u001b[39m,\n      call: \u001b[32m'eth_signTransaction'\u001b[39m\n    },\n    sendTransaction: [Function: send] {\n      request: \u001b[36m[Function: bound ]\u001b[39m,\n      call: \u001b[32m'eth_sendTransaction'\u001b[39m\n    },\n    sign: [Function: send] { request: \u001b[36m[Function: bound ]\u001b[39m, call: \u001b[32m'eth_sign'\u001b[39m },\n    compile: { solidity: \u001b[36m[Function]\u001b[39m, lll: \u001b[36m[Function]\u001b[39m, serpent: \u001b[36m[Function]\u001b[39m },\n    submitWork: [Function: send] {\n      request: \u001b[36m[Function: bound ]\u001b[39m,\n      call: \u001b[32m'eth_submitWork'\u001b[39m\n    },\n    getWork: [Function: send] {\n      request: \u001b[36m[Function: bound ]\u001b[39m,\n      call: \u001b[32m'eth_getWork'\u001b[39m\n    },\n    coinbase: \u001b[36m[Getter]\u001b[39m,\n    getCoinbase: [Function: get] { request: \u001b[36m[Function: bound ]\u001b[39m },\n    mining: \u001b[36m[Getter]\u001b[39m,\n    getMining: [Function: get] { request: \u001b[36m[Function: bound ]\u001b[39m },\n    hashrate: \u001b[36m[Getter]\u001b[39m,\n    getHashrate: [Function: get] { request: \u001b[36m[Function: bound ]\u001b[39m },\n    syncing: \u001b[36m[Getter]\u001b[39m,\n    getSyncing: [Function: get] { request: \u001b[36m[Function: bound ]\u001b[39m },\n    gasPrice: \u001b[36m[Getter]\u001b[39m,\n    getGasPrice: [Function: get] { request: \u001b[36m[Function: bound ]\u001b[39m },\n    accounts: \u001b[36m[Getter]\u001b[39m,\n    getAccounts: [Function: get] { request: \u001b[36m[Function: bound ]\u001b[39m },\n    blockNumber: \u001b[36m[Getter]\u001b[39m,\n    getBlockNumber: [Function: get] { request: \u001b[36m[Function: bound ]\u001b[39m },\n    protocolVersion: \u001b[36m[Getter]\u001b[39m,\n    getProtocolVersion: [Function: get] { request: \u001b[36m[Function: bound ]\u001b[39m },\n    iban: [Function: Iban] {\n      fromAddress: \u001b[36m[Function (anonymous)]\u001b[39m,\n      fromBban: \u001b[36m[Function (anonymous)]\u001b[39m,\n      createIndirect: \u001b[36m[Function (anonymous)]\u001b[39m,\n      isValid: \u001b[36m[Function (anonymous)]\u001b[39m\n    },\n    sendIBANTransaction: \u001b[36m[Function: bound transfer]\u001b[39m\n  },\n  transactionHash: \u001b[32m'0x39bbc549006fa51b647031ff903af84b7d7009623b97a5f07975754e042130de'\u001b[39m,\n  address: \u001b[32m'0x6ef220cae6b2627f4aaca2e1d2ab12d9d6f668fe'\u001b[39m,\n  abi: [\n    {\n      inputs: [],\n      name: \u001b[32m'add'\u001b[39m,\n      outputs: [],\n      stateMutability: \u001b[32m'nonpayable'\u001b[39m,\n      type: \u001b[32m'function'\u001b[39m\n    },\n    {\n      inputs: [],\n      name: \u001b[32m'getCounter'\u001b[39m,\n      outputs: \u001b[36m[Array]\u001b[39m,\n      stateMutability: \u001b[32m'view'\u001b[39m,\n      type: \u001b[32m'function'\u001b[39m\n    },\n    {\n      inputs: [],\n      name: \u001b[32m'subtract'\u001b[39m,\n      outputs: [],\n      stateMutability: \u001b[32m'nonpayable'\u001b[39m,\n      type: \u001b[32m'function'\u001b[39m\n    }\n  ],\n  add: \u001b[36m<ref *1>\u001b[39m [Function: bound ] {\n    request: \u001b[36m[Function: bound ]\u001b[39m,\n    call: \u001b[36m[Function: bound ]\u001b[39m,\n    sendTransaction: \u001b[36m[Function: bound ]\u001b[39m,\n    estimateGas: \u001b[36m[Function: bound ]\u001b[39m,\n    getData: \u001b[36m[Function: bound ]\u001b[39m,\n    \u001b[32m''\u001b[39m: \u001b[36m[Circular *1]\u001b[39m\n  },\n  getCounter: \u001b[36m<ref *2>\u001b[39m [Function: bound ] {\n    request: \u001b[36m[Function: bound ]\u001b[39m,\n    call: \u001b[36m[Function: bound ]\u001b[39m,\n    sendTransaction: \u001b[36m[Function: bound ]\u001b[39m,\n    estimateGas: \u001b[36m[Function: bound ]\u001b[39m,\n    getData: \u001b[36m[Function: bound ]\u001b[39m,\n    \u001b[32m''\u001b[39m: \u001b[36m[Circular *2]\u001b[39m\n  },\n  subtract: \u001b[36m<ref *3>\u001b[39m [Function: bound ] {\n    request: \u001b[36m[Function: bound ]\u001b[39m,\n    call: \u001b[36m[Function: bound ]\u001b[39m,\n    sendTransaction: \u001b[36m[Function: bound ]\u001b[39m,\n    estimateGas: \u001b[36m[Function: bound ]\u001b[39m,\n    getData: \u001b[36m[Function: bound ]\u001b[39m,\n    \u001b[32m''\u001b[39m: \u001b[36m[Circular *3]\u001b[39m\n  },\n  allEvents: \u001b[36m[Function: bound ]\u001b[39m\n}\nContract mined! address: 0x6ef220cae6b2627f4aaca2e1d2ab12d9d6f668fe transactionHash: 0x39bbc549006fa51b647031ff903af84b7d7009623b97a5f07975754e042130de\n"
    }
   ],
   "source": "!node src/CounterDeploy.js"
  },
  {
   "cell_type": "markdown",
   "metadata": {},
   "source": "### 4단계: 사용"
  },
  {
   "cell_type": "code",
   "execution_count": 25,
   "metadata": {},
   "outputs": [
    {
     "name": "stdout",
     "output_type": "stream",
     "text": "Overwriting src/CounterUse.js\n"
    }
   ],
   "source": "%%writefile src/CounterUse.js\nvar Web3=require('web3');\nvar web3 = new Web3(new Web3.providers.HttpProvider(\"http://127.0.0.1:8445\"));\nvar abi = [{\"inputs\":[],\"name\":\"add\",\"outputs\":[],\"stateMutability\":\"nonpayable\",\"type\":\"function\"},{\"inputs\":[],\"name\":\"getCounter\",\"outputs\":[{\"internalType\":\"uint256\",\"name\":\"\",\"type\":\"uint256\"}],\"stateMutability\":\"view\",\"type\":\"function\"},{\"inputs\":[],\"name\":\"subtract\",\"outputs\":[],\"stateMutability\":\"nonpayable\",\"type\":\"function\"}];\nvar addr = \"0x6ef220cae6b2627f4aaca2e1d2ab12d9d6f668fe\";\nvar counterContract = web3.eth.contract(abi);\nvar counter = counterContract.at(addr);\nweb3.personal.unlockAccount(web3.eth.accounts[0],'1234');\nconsole.log(counter.getCounter.call());"
  },
  {
   "cell_type": "code",
   "execution_count": 26,
   "metadata": {},
   "outputs": [
    {
     "name": "stdout",
     "output_type": "stream",
     "text": "BigNumber { s: \u001b[33m1\u001b[39m, e: \u001b[33m0\u001b[39m, c: [ \u001b[33m0\u001b[39m ] }\r\n"
    }
   ],
   "source": "!node src/CounterUse.js"
  },
  {
   "cell_type": "code",
   "execution_count": null,
   "metadata": {},
   "outputs": [],
   "source": ""
  },
  {
   "cell_type": "code",
   "execution_count": null,
   "metadata": {},
   "outputs": [],
   "source": ""
  },
  {
   "cell_type": "code",
   "execution_count": 33,
   "metadata": {},
   "outputs": [
    {
     "name": "stdout",
     "output_type": "stream",
     "text": "\r\n======= src/Greeter.sol:Greeter =======\r\nContract JSON ABI\r\n[{\"inputs\":[],\"stateMutability\":\"nonpayable\",\"type\":\"constructor\"},{\"inputs\":[],\"name\":\"greet\",\"outputs\":[{\"internalType\":\"string\",\"name\":\"\",\"type\":\"string\"}],\"stateMutability\":\"view\",\"type\":\"function\"},{\"inputs\":[{\"internalType\":\"string\",\"name\":\"_greeting\",\"type\":\"string\"}],\"name\":\"setGreeting\",\"outputs\":[],\"stateMutability\":\"nonpayable\",\"type\":\"function\"}]\r\n"
    }
   ],
   "source": "!solc --abi src/Greeter.sol"
  },
  {
   "cell_type": "code",
   "execution_count": 34,
   "metadata": {},
   "outputs": [
    {
     "name": "stdout",
     "output_type": "stream",
     "text": "\r\n======= src/Greeter.sol:Greeter =======\r\nBinary:\r\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\r\n"
    }
   ],
   "source": "!solc --bin src/Greeter.sol"
  },
  {
   "cell_type": "code",
   "execution_count": 35,
   "metadata": {},
   "outputs": [
    {
     "name": "stdout",
     "output_type": "stream",
     "text": "\r\n======= src/Greeter.sol:Greeter =======\r\nGas estimation:\r\nconstruction:\r\n   infinite + 156800 = infinite\r\nexternal:\r\n   greet():\tinfinite\r\n   setGreeting(string):\tinfinite\r\n"
    }
   ],
   "source": "!solc --gas src/Greeter.sol"
  },
  {
   "cell_type": "code",
   "execution_count": 47,
   "metadata": {},
   "outputs": [
    {
     "name": "stdout",
     "output_type": "stream",
     "text": "Overwriting src/greeter_ex_sample.js\n"
    }
   ],
   "source": ""
  },
  {
   "cell_type": "code",
   "execution_count": 48,
   "metadata": {},
   "outputs": [
    {
     "name": "stdout",
     "output_type": "stream",
     "text": "/Users/park/BlockChain/myProject/src/greeter_ex_sample.js:7\r\nvar greeter = greeterContract.new(\r\n                                 ^\r\n\r\nTypeError: greeterContract.new is not a function\r\n    at Object.<anonymous> (/Users/park/BlockChain/myProject/src/greeter_ex_sample.js:7:34)\r\n\u001b[90m    at Module._compile (internal/modules/cjs/loader.js:1151:30)\u001b[39m\r\n\u001b[90m    at Object.Module._extensions..js (internal/modules/cjs/loader.js:1171:10)\u001b[39m\r\n\u001b[90m    at Module.load (internal/modules/cjs/loader.js:1000:32)\u001b[39m\r\n\u001b[90m    at Function.Module._load (internal/modules/cjs/loader.js:899:14)\u001b[39m\r\n\u001b[90m    at Function.executeUserEntryPoint [as runMain] (internal/modules/run_main.js:71:12)\u001b[39m\r\n\u001b[90m    at internal/main/run_main_module.js:17:47\u001b[39m\r\n"
    }
   ],
   "source": "!node src/greeter_ex_sample.js"
  },
  {
   "cell_type": "code",
   "execution_count": null,
   "metadata": {},
   "outputs": [],
   "source": ""
  }
 ],
 "metadata": {
  "kernelspec": {
   "display_name": "Python 3",
   "language": "python",
   "name": "python3"
  },
  "language_info": {
   "codemirror_mode": {
    "name": "ipython",
    "version": 3
   },
   "file_extension": ".py",
   "mimetype": "text/x-python",
   "name": "python",
   "nbconvert_exporter": "python",
   "pygments_lexer": "ipython3",
   "version": "3.7.6"
  }
 },
 "nbformat": 4,
 "nbformat_minor": 4
}
