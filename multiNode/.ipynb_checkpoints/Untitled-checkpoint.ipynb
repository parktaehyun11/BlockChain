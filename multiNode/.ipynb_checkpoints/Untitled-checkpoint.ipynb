{
 "cells": [
  {
   "cell_type": "code",
   "execution_count": 8,
   "metadata": {},
   "outputs": [
    {
     "name": "stdout",
     "output_type": "stream",
     "text": "Overwriting _genesis.json\n"
    }
   ],
   "source": "%%writefile _genesis.json\n{\n  \"config\": {\n    \"chainId\": 33,\n    \"homesteadBlock\": 0,\n    \"eip150Block\": 0,  \n    \"eip155Block\": 0,\n    \"eip158Block\": 0\n  },\n  \"nonce\": \"0x0000000000000033\",\n  \"timestamp\": \"0x0\",\n  \"parentHash\": \"0x0000000000000000000000000000000000000000000000000000000000000000\",\n  \"gasLimit\": \"0x8000000\",\n  \"difficulty\": \"0x100\",\n  \"mixhash\": \"0x0000000000000000000000000000000000000000000000000000000000000000\",\n  \"coinbase\": \"0x3333333333333333333333333333333333333333\",\n  \"alloc\": {}\n}"
  },
  {
   "cell_type": "markdown",
   "metadata": {},
   "source": "## multinode 1"
  },
  {
   "cell_type": "code",
   "execution_count": 9,
   "metadata": {},
   "outputs": [
    {
     "name": "stdout",
     "output_type": "stream",
     "text": "Writing _geth_genesis1.sh\n"
    }
   ],
   "source": "%%writefile _geth_genesis1.sh\ngeth --datadir /Users/park/BlockChain/multiNode/eth/1 init _genesis.json"
  },
  {
   "cell_type": "code",
   "execution_count": 10,
   "metadata": {},
   "outputs": [
    {
     "name": "stdout",
     "output_type": "stream",
     "text": "\u001b[32mINFO \u001b[0m[03-28|18:25:27.315] Maximum peer count                       \u001b[32mETH\u001b[0m=50 \u001b[32mLES\u001b[0m=0 \u001b[32mtotal\u001b[0m=50\n\u001b[32mINFO \u001b[0m[03-28|18:25:27.332] Allocated cache and file handles         \u001b[32mdatabase\u001b[0m=/Users/park/BlockChain/multiNode/eth/1/geth/chaindata \u001b[32mcache\u001b[0m=16.00MiB \u001b[32mhandles\u001b[0m=16\n\u001b[32mINFO \u001b[0m[03-28|18:25:27.351] Writing custom genesis block \n\u001b[32mINFO \u001b[0m[03-28|18:25:27.352] Persisted trie from memory database      \u001b[32mnodes\u001b[0m=0 \u001b[32msize\u001b[0m=0.00B \u001b[32mtime\u001b[0m=11.991µs \u001b[32mgcnodes\u001b[0m=0 \u001b[32mgcsize\u001b[0m=0.00B \u001b[32mgctime\u001b[0m=0s \u001b[32mlivenodes\u001b[0m=1 \u001b[32mlivesize\u001b[0m=0.00B\n\u001b[32mINFO \u001b[0m[03-28|18:25:27.352] Successfully wrote genesis state         \u001b[32mdatabase\u001b[0m=chaindata \u001b[32mhash\u001b[0m=5704d0…9bc5b0\n\u001b[32mINFO \u001b[0m[03-28|18:25:27.352] Allocated cache and file handles         \u001b[32mdatabase\u001b[0m=/Users/park/BlockChain/multiNode/eth/1/geth/lightchaindata \u001b[32mcache\u001b[0m=16.00MiB \u001b[32mhandles\u001b[0m=16\n\u001b[32mINFO \u001b[0m[03-28|18:25:27.369] Writing custom genesis block \n\u001b[32mINFO \u001b[0m[03-28|18:25:27.370] Persisted trie from memory database      \u001b[32mnodes\u001b[0m=0 \u001b[32msize\u001b[0m=0.00B \u001b[32mtime\u001b[0m=4.486µs  \u001b[32mgcnodes\u001b[0m=0 \u001b[32mgcsize\u001b[0m=0.00B \u001b[32mgctime\u001b[0m=0s \u001b[32mlivenodes\u001b[0m=1 \u001b[32mlivesize\u001b[0m=0.00B\n\u001b[32mINFO \u001b[0m[03-28|18:25:27.371] Successfully wrote genesis state         \u001b[32mdatabase\u001b[0m=lightchaindata \u001b[32mhash\u001b[0m=5704d0…9bc5b0\n"
    }
   ],
   "source": "!sh _geth_genesis1.sh"
  },
  {
   "cell_type": "code",
   "execution_count": 11,
   "metadata": {},
   "outputs": [
    {
     "name": "stdout",
     "output_type": "stream",
     "text": "Writing _gethNow1.sh\n"
    }
   ],
   "source": "%%writefile _gethNow1.sh\ngeth --identity \"parkNode1\" \\\n--allow-insecure-unlock \\\n--rpc --rpcaddr \"127.0.0.1\" --rpcport \"8001\" --rpccorsdomain \"*\" \\\n--datadir /Users/park/BlockChain/multiNode/eth/1 \\\n--port \"38001\" \\\n--rpcapi \"admin,eth,debug,miner,net,txpool,personal,web3\" \\\n--networkid 33 "
  },
  {
   "cell_type": "markdown",
   "metadata": {},
   "source": "geth --datadir eth/1 account new --- 터미널에서 이 명령어 통해서 계정 생성"
  },
  {
   "cell_type": "code",
   "execution_count": 39,
   "metadata": {},
   "outputs": [
    {
     "name": "stdout",
     "output_type": "stream",
     "text": "\u001b[32m\"enode://d7113b0edd3a683b0243623411af913aed612e2e46195811f133fb1b62cac8762e4390e7fa7d5d8a9f09cf132ef70f92de44729b7c548e3bdad2ef45b2107b0b@220.72.89.211:38001\"\u001b[0m\r\n"
    }
   ],
   "source": "!geth --exec \"admin.nodeInfo.enode\" attach http://127.0.0.1:8001"
  },
  {
   "cell_type": "code",
   "execution_count": 32,
   "metadata": {},
   "outputs": [
    {
     "name": "stdout",
     "output_type": "stream",
     "text": "Overwriting eth/1/static-nodes.json\n"
    }
   ],
   "source": "%%writefile eth/1/static-nodes.json\n[\n    \"enode://fec577c824328969f9966aea04de68261b321ff40806cd605e3c17441ef8168e7a693b0215298bb8c5586ddd18bf7b30245a58351e3918b2cf60f66edcc8fd1d@127.0.0.1:38002\",\n    \"enode://700d7b8c2dd662e449d70cedaea83a2b5409f742d471883e741be22e5d42358c7e9fcfb08e0d9832bea18658aeff361275c466a077be171bf718eecf2da1b930@127.0.0.1:38003\"\n]"
  },
  {
   "cell_type": "markdown",
   "metadata": {},
   "source": "## multinode2"
  },
  {
   "cell_type": "code",
   "execution_count": 12,
   "metadata": {},
   "outputs": [
    {
     "name": "stdout",
     "output_type": "stream",
     "text": "Writing _geth_genesis2.sh\n"
    }
   ],
   "source": "%%writefile _geth_genesis2.sh\ngeth --datadir /Users/park/BlockChain/multiNode/eth/2 init _genesis.json"
  },
  {
   "cell_type": "code",
   "execution_count": 13,
   "metadata": {},
   "outputs": [
    {
     "name": "stdout",
     "output_type": "stream",
     "text": "\u001b[32mINFO \u001b[0m[03-28|18:25:50.231] Maximum peer count                       \u001b[32mETH\u001b[0m=50 \u001b[32mLES\u001b[0m=0 \u001b[32mtotal\u001b[0m=50\n\u001b[32mINFO \u001b[0m[03-28|18:25:50.245] Allocated cache and file handles         \u001b[32mdatabase\u001b[0m=/Users/park/BlockChain/multiNode/eth/2/geth/chaindata \u001b[32mcache\u001b[0m=16.00MiB \u001b[32mhandles\u001b[0m=16\n\u001b[32mINFO \u001b[0m[03-28|18:25:50.265] Writing custom genesis block \n\u001b[32mINFO \u001b[0m[03-28|18:25:50.265] Persisted trie from memory database      \u001b[32mnodes\u001b[0m=0 \u001b[32msize\u001b[0m=0.00B \u001b[32mtime\u001b[0m=13.345µs \u001b[32mgcnodes\u001b[0m=0 \u001b[32mgcsize\u001b[0m=0.00B \u001b[32mgctime\u001b[0m=0s \u001b[32mlivenodes\u001b[0m=1 \u001b[32mlivesize\u001b[0m=0.00B\n\u001b[32mINFO \u001b[0m[03-28|18:25:50.266] Successfully wrote genesis state         \u001b[32mdatabase\u001b[0m=chaindata \u001b[32mhash\u001b[0m=5704d0…9bc5b0\n\u001b[32mINFO \u001b[0m[03-28|18:25:50.266] Allocated cache and file handles         \u001b[32mdatabase\u001b[0m=/Users/park/BlockChain/multiNode/eth/2/geth/lightchaindata \u001b[32mcache\u001b[0m=16.00MiB \u001b[32mhandles\u001b[0m=16\n\u001b[32mINFO \u001b[0m[03-28|18:25:50.283] Writing custom genesis block \n\u001b[32mINFO \u001b[0m[03-28|18:25:50.283] Persisted trie from memory database      \u001b[32mnodes\u001b[0m=0 \u001b[32msize\u001b[0m=0.00B \u001b[32mtime\u001b[0m=2.023µs  \u001b[32mgcnodes\u001b[0m=0 \u001b[32mgcsize\u001b[0m=0.00B \u001b[32mgctime\u001b[0m=0s \u001b[32mlivenodes\u001b[0m=1 \u001b[32mlivesize\u001b[0m=0.00B\n\u001b[32mINFO \u001b[0m[03-28|18:25:50.284] Successfully wrote genesis state         \u001b[32mdatabase\u001b[0m=lightchaindata \u001b[32mhash\u001b[0m=5704d0…9bc5b0\n"
    }
   ],
   "source": "!sh _geth_genesis2.sh"
  },
  {
   "cell_type": "code",
   "execution_count": 19,
   "metadata": {},
   "outputs": [
    {
     "name": "stdout",
     "output_type": "stream",
     "text": "Overwriting _gethNow2.sh\n"
    }
   ],
   "source": "%%writefile _gethNow2.sh\ngeth --identity \"parkNode2\" \\\n--allow-insecure-unlock \\\n--rpc --rpcaddr \"127.0.0.1\" --rpcport \"8002\" --rpccorsdomain \"*\" \\\n--datadir /Users/park/BlockChain/multiNode/eth/2 \\\n--port \"38002\" \\\n--rpcapi \"admin,eth,debug,miner,net,txpool,personal,web3\" \\\n--networkid 33 "
  },
  {
   "cell_type": "markdown",
   "metadata": {},
   "source": "geth --datadir eth/2 account new --- 터미널에서 이 명령어 통해서 계정 생성"
  },
  {
   "cell_type": "code",
   "execution_count": 38,
   "metadata": {},
   "outputs": [
    {
     "name": "stdout",
     "output_type": "stream",
     "text": "\u001b[32m\"enode://fec577c824328969f9966aea04de68261b321ff40806cd605e3c17441ef8168e7a693b0215298bb8c5586ddd18bf7b30245a58351e3918b2cf60f66edcc8fd1d@220.72.89.211:38002\"\u001b[0m\r\n"
    }
   ],
   "source": "!geth --exec \"admin.nodeInfo.enode\" attach http://127.0.0.1:8002"
  },
  {
   "cell_type": "code",
   "execution_count": 33,
   "metadata": {},
   "outputs": [
    {
     "name": "stdout",
     "output_type": "stream",
     "text": "Overwriting eth/2/static-nodes.json\n"
    }
   ],
   "source": "%%writefile eth/2/static-nodes.json\n[\n    \"enode://d7113b0edd3a683b0243623411af913aed612e2e46195811f133fb1b62cac8762e4390e7fa7d5d8a9f09cf132ef70f92de44729b7c548e3bdad2ef45b2107b0b@127.0.0.1:38001\",\n    \"enode://700d7b8c2dd662e449d70cedaea83a2b5409f742d471883e741be22e5d42358c7e9fcfb08e0d9832bea18658aeff361275c466a077be171bf718eecf2da1b930@127.0.0.1:38003\"\n]"
  },
  {
   "cell_type": "markdown",
   "metadata": {},
   "source": "## multinode3"
  },
  {
   "cell_type": "code",
   "execution_count": 16,
   "metadata": {},
   "outputs": [
    {
     "name": "stdout",
     "output_type": "stream",
     "text": "Writing _geth_genesis3.sh\n"
    }
   ],
   "source": "%%writefile _geth_genesis3.sh\ngeth --datadir /Users/park/BlockChain/multiNode/eth/3 init _genesis.json"
  },
  {
   "cell_type": "code",
   "execution_count": 18,
   "metadata": {},
   "outputs": [
    {
     "name": "stdout",
     "output_type": "stream",
     "text": "\u001b[32mINFO \u001b[0m[03-28|18:28:56.282] Maximum peer count                       \u001b[32mETH\u001b[0m=50 \u001b[32mLES\u001b[0m=0 \u001b[32mtotal\u001b[0m=50\n\u001b[32mINFO \u001b[0m[03-28|18:28:56.297] Allocated cache and file handles         \u001b[32mdatabase\u001b[0m=/Users/park/BlockChain/multiNode/eth/3/geth/chaindata \u001b[32mcache\u001b[0m=16.00MiB \u001b[32mhandles\u001b[0m=16\n\u001b[32mINFO \u001b[0m[03-28|18:28:56.316] Writing custom genesis block \n\u001b[32mINFO \u001b[0m[03-28|18:28:56.316] Persisted trie from memory database      \u001b[32mnodes\u001b[0m=0 \u001b[32msize\u001b[0m=0.00B \u001b[32mtime\u001b[0m=12.108µs \u001b[32mgcnodes\u001b[0m=0 \u001b[32mgcsize\u001b[0m=0.00B \u001b[32mgctime\u001b[0m=0s \u001b[32mlivenodes\u001b[0m=1 \u001b[32mlivesize\u001b[0m=0.00B\n\u001b[32mINFO \u001b[0m[03-28|18:28:56.317] Successfully wrote genesis state         \u001b[32mdatabase\u001b[0m=chaindata \u001b[32mhash\u001b[0m=5704d0…9bc5b0\n\u001b[32mINFO \u001b[0m[03-28|18:28:56.317] Allocated cache and file handles         \u001b[32mdatabase\u001b[0m=/Users/park/BlockChain/multiNode/eth/3/geth/lightchaindata \u001b[32mcache\u001b[0m=16.00MiB \u001b[32mhandles\u001b[0m=16\n\u001b[32mINFO \u001b[0m[03-28|18:28:56.334] Writing custom genesis block \n\u001b[32mINFO \u001b[0m[03-28|18:28:56.334] Persisted trie from memory database      \u001b[32mnodes\u001b[0m=0 \u001b[32msize\u001b[0m=0.00B \u001b[32mtime\u001b[0m=2.363µs  \u001b[32mgcnodes\u001b[0m=0 \u001b[32mgcsize\u001b[0m=0.00B \u001b[32mgctime\u001b[0m=0s \u001b[32mlivenodes\u001b[0m=1 \u001b[32mlivesize\u001b[0m=0.00B\n\u001b[32mINFO \u001b[0m[03-28|18:28:56.335] Successfully wrote genesis state         \u001b[32mdatabase\u001b[0m=lightchaindata \u001b[32mhash\u001b[0m=5704d0…9bc5b0\n"
    }
   ],
   "source": "!sh _geth_genesis3.sh"
  },
  {
   "cell_type": "code",
   "execution_count": 20,
   "metadata": {},
   "outputs": [
    {
     "name": "stdout",
     "output_type": "stream",
     "text": "Writing _gethNow3.sh\n"
    }
   ],
   "source": "%%writefile _gethNow3.sh\ngeth --identity \"parkNode3\" \\\n--allow-insecure-unlock \\\n--rpc --rpcaddr \"127.0.0.1\" --rpcport \"8003\" --rpccorsdomain \"*\" \\\n--datadir /Users/park/BlockChain/multiNode/eth/3 \\\n--port \"38003\" \\\n--rpcapi \"admin,eth,debug,miner,net,txpool,personal,web3\" \\\n--networkid 33 "
  },
  {
   "cell_type": "markdown",
   "metadata": {},
   "source": "geth --datadir eth/3 account new --- 터미널에서 이 명령어 통해서 계정 생성"
  },
  {
   "cell_type": "code",
   "execution_count": 37,
   "metadata": {},
   "outputs": [
    {
     "name": "stdout",
     "output_type": "stream",
     "text": "\u001b[32m\"enode://700d7b8c2dd662e449d70cedaea83a2b5409f742d471883e741be22e5d42358c7e9fcfb08e0d9832bea18658aeff361275c466a077be171bf718eecf2da1b930@220.72.89.211:38003\"\u001b[0m\r\n"
    }
   ],
   "source": "!geth --exec \"admin.nodeInfo.enode\" attach http://127.0.0.1:8003"
  },
  {
   "cell_type": "code",
   "execution_count": 34,
   "metadata": {},
   "outputs": [
    {
     "name": "stdout",
     "output_type": "stream",
     "text": "Overwriting eth/3/static-nodes.json\n"
    }
   ],
   "source": "%%writefile eth/3/static-nodes.json\n[\n    \"enode://d7113b0edd3a683b0243623411af913aed612e2e46195811f133fb1b62cac8762e4390e7fa7d5d8a9f09cf132ef70f92de44729b7c548e3bdad2ef45b2107b0b@127.0.0.1:38001\",\n    \"enode://fec577c824328969f9966aea04de68261b321ff40806cd605e3c17441ef8168e7a693b0215298bb8c5586ddd18bf7b30245a58351e3918b2cf60f66edcc8fd1d@127.0.0.1:38002\"\n]"
  },
  {
   "cell_type": "code",
   "execution_count": null,
   "metadata": {},
   "outputs": [],
   "source": ""
  }
 ],
 "metadata": {
  "kernelspec": {
   "display_name": "Python 3",
   "language": "python",
   "name": "python3"
  },
  "language_info": {
   "codemirror_mode": {
    "name": "ipython",
    "version": 3
   },
   "file_extension": ".py",
   "mimetype": "text/x-python",
   "name": "python",
   "nbconvert_exporter": "python",
   "pygments_lexer": "ipython3",
   "version": "3.7.6"
  }
 },
 "nbformat": 4,
 "nbformat_minor": 4
}
